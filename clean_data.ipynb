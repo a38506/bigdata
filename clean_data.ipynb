{
 "cells": [
  {
   "cell_type": "markdown",
   "metadata": {},
   "source": [
    "Link data: https://drive.google.com/drive/folders/1QC08DrzaJuAmAkzq_Yo_Oix4dT3WjA91?usp=sharing"
   ]
  },
  {
   "cell_type": "markdown",
   "metadata": {},
   "source": [
    "Khai báo thư viện"
   ]
  },
  {
   "cell_type": "code",
   "execution_count": null,
   "metadata": {},
   "outputs": [],
   "source": [
    "!pip install numpy\n",
    "!pip install pandas\n",
    "!pip install numpy seaborn"
   ]
  },
  {
   "cell_type": "code",
   "execution_count": 4,
   "metadata": {},
   "outputs": [],
   "source": [
    "import pandas as pd\n",
    "import numpy as np\n",
    "import seaborn as sns\n",
    "import matplotlib.pyplot as plt"
   ]
  },
  {
   "cell_type": "markdown",
   "metadata": {},
   "source": [
    "Đọc dữ liệu"
   ]
  },
  {
   "cell_type": "code",
   "execution_count": null,
   "metadata": {},
   "outputs": [],
   "source": [
    "import pandas as pd\n",
    "df = pd.read_excel('DuLieu2000-2004.csv.xlsx')\n",
    "df = pd.read_excel('DuLieu2005-2009.csv.xlsx')\n",
    "df = pd.read_excel('DuLieu2012-2016.csv.xlsx')\n",
    "df = pd.read_excel('DuLieu2017-2023.csv.xlsx')\n"
   ]
  },
  {
   "cell_type": "markdown",
   "metadata": {},
   "source": [
    "Gộp dữ liệu"
   ]
  },
  {
   "cell_type": "code",
   "execution_count": 5,
   "metadata": {},
   "outputs": [
    {
     "name": "stdout",
     "output_type": "stream",
     "text": [
      "         Unnamed: 0                 artist_name  \\\n",
      "0            622652           Five For Fighting   \n",
      "1            622653              Stephen Speaks   \n",
      "2            622654               Chris Smither   \n",
      "3            622655               Chris Smither   \n",
      "4            622656               Bob Schneider   \n",
      "...             ...                         ...   \n",
      "1048570      622646                  Lemongrass   \n",
      "1048571      622647               Groove Armada   \n",
      "1048572      622648             Brazilian Girls   \n",
      "1048573      622649             Brazilian Girls   \n",
      "1048574      622650  The Future Sound Of London   \n",
      "\n",
      "                                                track_name  \\\n",
      "0                                             Easy Tonight   \n",
      "1                                           Passenger Seat   \n",
      "2                                            No Love Today   \n",
      "3                                            Link Of Chain   \n",
      "4                                             Big Blue Sea   \n",
      "...                                                    ...   \n",
      "1048570                                     Grapes - Remix   \n",
      "1048571  Rescue Me - Roland Leesker's You Got To Dance ...   \n",
      "1048572                             Good Time - Radio Edit   \n",
      "1048573                                          Good Time   \n",
      "1048574                                    Dead Skin Cells   \n",
      "\n",
      "                       track_id  popularity  year     genre  danceability  \\\n",
      "0        57PHqrPsX6E7OX9LeKSo9Q          37  2000  acoustic         0.470   \n",
      "1        67E65R1XMIKCzRrJ3pC5IS          54  2000  acoustic         0.550   \n",
      "2        6KmJfZCd5f4P11vuglbIrN          34  2000  acoustic         0.557   \n",
      "3        16N2lpCidTNYdNq2YZhE98          35  2000  acoustic         0.445   \n",
      "4        4maIlg3dss7yA23mBdTYdM          27  2000  acoustic         0.671   \n",
      "...                         ...         ...   ...       ...           ...   \n",
      "1048570  3H5dcp3GdIejynK7vCcPxX           0  2023  trip-hop         0.660   \n",
      "1048571  3ZZ7FgBdEv5Eq537nTvdYH           1  2023  trip-hop         0.769   \n",
      "1048572  2BRpsndU96kgMjlfKjyY8q           0  2023  trip-hop         0.803   \n",
      "1048573  4da5NJr6Pm72tdEzzbK5Us           1  2023  trip-hop         0.794   \n",
      "1048574  4yKyp7I1iyYTup8xs2JVgp           0  2023  trip-hop         0.308   \n",
      "\n",
      "         energy  key  loudness  mode  speechiness  acousticness  \\\n",
      "0         0.678    4    -8.018     1       0.0587       0.25900   \n",
      "1         0.584    7    -9.930     1       0.0271       0.02370   \n",
      "2         0.290   11    -9.184     0       0.0386       0.84900   \n",
      "3         0.471    6    -8.831     1       0.0322       0.88300   \n",
      "4         0.523    7   -10.328     1       0.0944       0.55400   \n",
      "...         ...  ...       ...   ...          ...           ...   \n",
      "1048570   0.598    0    -7.629     1       0.0359       0.12300   \n",
      "1048571   0.604    9   -13.930     1       0.0634       0.00582   \n",
      "1048572   0.847   10    -5.808     0       0.0765       0.08750   \n",
      "1048573   0.839   10    -6.373     0       0.0526       0.04980   \n",
      "1048574   0.468    0   -17.676     0       0.0573       0.83600   \n",
      "\n",
      "         instrumentalness  liveness  valence    tempo  duration_ms  \\\n",
      "0                  0.0000     0.204    0.240   84.843       246600   \n",
      "1                  0.0000     0.190    0.806  153.001       248976   \n",
      "2                  0.0000     0.700    0.358   89.117       284082   \n",
      "3                  0.0695     0.697    0.128  146.957       290090   \n",
      "4                  0.0000     0.171    0.599   77.979       244973   \n",
      "...                   ...       ...      ...      ...          ...   \n",
      "1048570            0.2760     0.104    0.370   90.017       386739   \n",
      "1048571            0.2460     0.114    0.330  122.999       423418   \n",
      "1048572            0.0976     0.289    0.573  129.987       180413   \n",
      "1048573            0.1060     0.137    0.767  129.980       228600   \n",
      "1048574            0.6840     0.161    0.114  118.376       410529   \n",
      "\n",
      "         time_signature  \n",
      "0                     4  \n",
      "1                     4  \n",
      "2                     4  \n",
      "3                     4  \n",
      "4                     4  \n",
      "...                 ...  \n",
      "1048570               4  \n",
      "1048571               4  \n",
      "1048572               4  \n",
      "1048573               4  \n",
      "1048574               3  \n",
      "\n",
      "[1048575 rows x 20 columns]\n"
     ]
    }
   ],
   "source": [
    "file_names = [\n",
    "    'DuLieu2000-2004.csv.xlsx',\n",
    "    'DuLieu2005-2009.csv.xlsx',\n",
    "    'DuLieu2012-2016.csv.xlsx',\n",
    "    'DuLieu2017-2023.csv.xlsx'\n",
    "]\n",
    "\n",
    "dfs = [pd.read_excel(file_name) for file_name in file_names]\n",
    "\n",
    "result_df = pd.concat(dfs, ignore_index=True)\n",
    "\n",
    "print(result_df)\n",
    "\n",
    "result_df.to_csv('merged_data.csv', index=False);"
   ]
  },
  {
   "cell_type": "code",
   "execution_count": 6,
   "metadata": {},
   "outputs": [
    {
     "data": {
      "text/html": [
       "<div>\n",
       "<style scoped>\n",
       "    .dataframe tbody tr th:only-of-type {\n",
       "        vertical-align: middle;\n",
       "    }\n",
       "\n",
       "    .dataframe tbody tr th {\n",
       "        vertical-align: top;\n",
       "    }\n",
       "\n",
       "    .dataframe thead th {\n",
       "        text-align: right;\n",
       "    }\n",
       "</style>\n",
       "<table border=\"1\" class=\"dataframe\">\n",
       "  <thead>\n",
       "    <tr style=\"text-align: right;\">\n",
       "      <th></th>\n",
       "      <th>Unnamed: 0</th>\n",
       "      <th>artist_name</th>\n",
       "      <th>track_name</th>\n",
       "      <th>track_id</th>\n",
       "      <th>popularity</th>\n",
       "      <th>year</th>\n",
       "      <th>genre</th>\n",
       "      <th>danceability</th>\n",
       "      <th>energy</th>\n",
       "      <th>key</th>\n",
       "      <th>loudness</th>\n",
       "      <th>mode</th>\n",
       "      <th>speechiness</th>\n",
       "      <th>acousticness</th>\n",
       "      <th>instrumentalness</th>\n",
       "      <th>liveness</th>\n",
       "      <th>valence</th>\n",
       "      <th>tempo</th>\n",
       "      <th>duration_ms</th>\n",
       "      <th>time_signature</th>\n",
       "    </tr>\n",
       "  </thead>\n",
       "  <tbody>\n",
       "    <tr>\n",
       "      <th>0</th>\n",
       "      <td>253072</td>\n",
       "      <td>Chord Overstreet</td>\n",
       "      <td>Hold On</td>\n",
       "      <td>5vjLSffimiIP26QG5WcN2K</td>\n",
       "      <td>79</td>\n",
       "      <td>2017</td>\n",
       "      <td>acoustic</td>\n",
       "      <td>0.618</td>\n",
       "      <td>0.443</td>\n",
       "      <td>2</td>\n",
       "      <td>-9.681</td>\n",
       "      <td>1</td>\n",
       "      <td>0.0526</td>\n",
       "      <td>0.469</td>\n",
       "      <td>0.000000</td>\n",
       "      <td>0.0829</td>\n",
       "      <td>0.167</td>\n",
       "      <td>119.949</td>\n",
       "      <td>198853</td>\n",
       "      <td>4</td>\n",
       "    </tr>\n",
       "    <tr>\n",
       "      <th>1</th>\n",
       "      <td>253073</td>\n",
       "      <td>Iron &amp; Wine</td>\n",
       "      <td>Call It Dreaming</td>\n",
       "      <td>1MxHIIzcTeFnaNsDGY3pfj</td>\n",
       "      <td>63</td>\n",
       "      <td>2017</td>\n",
       "      <td>acoustic</td>\n",
       "      <td>0.512</td>\n",
       "      <td>0.501</td>\n",
       "      <td>5</td>\n",
       "      <td>-9.971</td>\n",
       "      <td>1</td>\n",
       "      <td>0.0325</td>\n",
       "      <td>0.609</td>\n",
       "      <td>0.000063</td>\n",
       "      <td>0.0973</td>\n",
       "      <td>0.726</td>\n",
       "      <td>79.989</td>\n",
       "      <td>231755</td>\n",
       "      <td>4</td>\n",
       "    </tr>\n",
       "    <tr>\n",
       "      <th>2</th>\n",
       "      <td>253074</td>\n",
       "      <td>Kina Grannis</td>\n",
       "      <td>Iris</td>\n",
       "      <td>5oV8bZaShr2d01FFMHBUPq</td>\n",
       "      <td>60</td>\n",
       "      <td>2017</td>\n",
       "      <td>acoustic</td>\n",
       "      <td>0.497</td>\n",
       "      <td>0.130</td>\n",
       "      <td>6</td>\n",
       "      <td>-15.571</td>\n",
       "      <td>1</td>\n",
       "      <td>0.0436</td>\n",
       "      <td>0.841</td>\n",
       "      <td>0.000000</td>\n",
       "      <td>0.1110</td>\n",
       "      <td>0.179</td>\n",
       "      <td>130.769</td>\n",
       "      <td>181136</td>\n",
       "      <td>3</td>\n",
       "    </tr>\n",
       "    <tr>\n",
       "      <th>3</th>\n",
       "      <td>253075</td>\n",
       "      <td>Andrew Belle</td>\n",
       "      <td>When the End Comes</td>\n",
       "      <td>3Et4LKZLnXygPYfNdeB3D3</td>\n",
       "      <td>52</td>\n",
       "      <td>2017</td>\n",
       "      <td>acoustic</td>\n",
       "      <td>0.541</td>\n",
       "      <td>0.575</td>\n",
       "      <td>9</td>\n",
       "      <td>-9.463</td>\n",
       "      <td>1</td>\n",
       "      <td>0.0491</td>\n",
       "      <td>0.677</td>\n",
       "      <td>0.215000</td>\n",
       "      <td>0.1020</td>\n",
       "      <td>0.428</td>\n",
       "      <td>91.980</td>\n",
       "      <td>354400</td>\n",
       "      <td>4</td>\n",
       "    </tr>\n",
       "    <tr>\n",
       "      <th>4</th>\n",
       "      <td>253076</td>\n",
       "      <td>NEEDTOBREATHE</td>\n",
       "      <td>WALKING ON WATER</td>\n",
       "      <td>0WWUC8RjWvuBTkiiFDxyQf</td>\n",
       "      <td>48</td>\n",
       "      <td>2017</td>\n",
       "      <td>acoustic</td>\n",
       "      <td>0.534</td>\n",
       "      <td>0.784</td>\n",
       "      <td>0</td>\n",
       "      <td>-6.542</td>\n",
       "      <td>1</td>\n",
       "      <td>0.0476</td>\n",
       "      <td>0.125</td>\n",
       "      <td>0.000009</td>\n",
       "      <td>0.0753</td>\n",
       "      <td>0.251</td>\n",
       "      <td>118.011</td>\n",
       "      <td>246933</td>\n",
       "      <td>4</td>\n",
       "    </tr>\n",
       "  </tbody>\n",
       "</table>\n",
       "</div>"
      ],
      "text/plain": [
       "   Unnamed: 0       artist_name          track_name                track_id  \\\n",
       "0      253072  Chord Overstreet             Hold On  5vjLSffimiIP26QG5WcN2K   \n",
       "1      253073       Iron & Wine    Call It Dreaming  1MxHIIzcTeFnaNsDGY3pfj   \n",
       "2      253074      Kina Grannis                Iris  5oV8bZaShr2d01FFMHBUPq   \n",
       "3      253075      Andrew Belle  When the End Comes  3Et4LKZLnXygPYfNdeB3D3   \n",
       "4      253076     NEEDTOBREATHE    WALKING ON WATER  0WWUC8RjWvuBTkiiFDxyQf   \n",
       "\n",
       "   popularity  year     genre  danceability  energy  key  loudness  mode  \\\n",
       "0          79  2017  acoustic         0.618   0.443    2    -9.681     1   \n",
       "1          63  2017  acoustic         0.512   0.501    5    -9.971     1   \n",
       "2          60  2017  acoustic         0.497   0.130    6   -15.571     1   \n",
       "3          52  2017  acoustic         0.541   0.575    9    -9.463     1   \n",
       "4          48  2017  acoustic         0.534   0.784    0    -6.542     1   \n",
       "\n",
       "   speechiness  acousticness  instrumentalness  liveness  valence    tempo  \\\n",
       "0       0.0526         0.469          0.000000    0.0829    0.167  119.949   \n",
       "1       0.0325         0.609          0.000063    0.0973    0.726   79.989   \n",
       "2       0.0436         0.841          0.000000    0.1110    0.179  130.769   \n",
       "3       0.0491         0.677          0.215000    0.1020    0.428   91.980   \n",
       "4       0.0476         0.125          0.000009    0.0753    0.251  118.011   \n",
       "\n",
       "   duration_ms  time_signature  \n",
       "0       198853               4  \n",
       "1       231755               4  \n",
       "2       181136               3  \n",
       "3       354400               4  \n",
       "4       246933               4  "
      ]
     },
     "execution_count": 6,
     "metadata": {},
     "output_type": "execute_result"
    }
   ],
   "source": [
    "df.head()"
   ]
  },
  {
   "cell_type": "code",
   "execution_count": 7,
   "metadata": {},
   "outputs": [
    {
     "name": "stdout",
     "output_type": "stream",
     "text": [
      "<class 'pandas.core.frame.DataFrame'>\n",
      "RangeIndex: 369579 entries, 0 to 369578\n",
      "Data columns (total 20 columns):\n",
      " #   Column            Non-Null Count   Dtype  \n",
      "---  ------            --------------   -----  \n",
      " 0   Unnamed: 0        369579 non-null  int64  \n",
      " 1   artist_name       369564 non-null  object \n",
      " 2   track_name        369574 non-null  object \n",
      " 3   track_id          369579 non-null  object \n",
      " 4   popularity        369579 non-null  int64  \n",
      " 5   year              369579 non-null  int64  \n",
      " 6   genre             369579 non-null  object \n",
      " 7   danceability      369579 non-null  float64\n",
      " 8   energy            369579 non-null  float64\n",
      " 9   key               369579 non-null  int64  \n",
      " 10  loudness          369579 non-null  float64\n",
      " 11  mode              369579 non-null  int64  \n",
      " 12  speechiness       369579 non-null  float64\n",
      " 13  acousticness      369579 non-null  float64\n",
      " 14  instrumentalness  369579 non-null  float64\n",
      " 15  liveness          369579 non-null  float64\n",
      " 16  valence           369579 non-null  float64\n",
      " 17  tempo             369579 non-null  float64\n",
      " 18  duration_ms       369579 non-null  int64  \n",
      " 19  time_signature    369579 non-null  int64  \n",
      "dtypes: float64(9), int64(7), object(4)\n",
      "memory usage: 56.4+ MB\n"
     ]
    }
   ],
   "source": [
    "df.info()"
   ]
  },
  {
   "cell_type": "code",
   "execution_count": 8,
   "metadata": {},
   "outputs": [
    {
     "data": {
      "text/plain": [
       "(369579, 20)"
      ]
     },
     "execution_count": 8,
     "metadata": {},
     "output_type": "execute_result"
    }
   ],
   "source": [
    "df.shape"
   ]
  },
  {
   "cell_type": "code",
   "execution_count": 9,
   "metadata": {},
   "outputs": [
    {
     "data": {
      "text/html": [
       "<div>\n",
       "<style scoped>\n",
       "    .dataframe tbody tr th:only-of-type {\n",
       "        vertical-align: middle;\n",
       "    }\n",
       "\n",
       "    .dataframe tbody tr th {\n",
       "        vertical-align: top;\n",
       "    }\n",
       "\n",
       "    .dataframe thead th {\n",
       "        text-align: right;\n",
       "    }\n",
       "</style>\n",
       "<table border=\"1\" class=\"dataframe\">\n",
       "  <thead>\n",
       "    <tr style=\"text-align: right;\">\n",
       "      <th></th>\n",
       "      <th>artist_name</th>\n",
       "      <th>track_name</th>\n",
       "      <th>track_id</th>\n",
       "      <th>popularity</th>\n",
       "      <th>year</th>\n",
       "      <th>genre</th>\n",
       "      <th>danceability</th>\n",
       "      <th>energy</th>\n",
       "      <th>key</th>\n",
       "      <th>loudness</th>\n",
       "      <th>mode</th>\n",
       "      <th>speechiness</th>\n",
       "      <th>acousticness</th>\n",
       "      <th>instrumentalness</th>\n",
       "      <th>liveness</th>\n",
       "      <th>valence</th>\n",
       "      <th>tempo</th>\n",
       "      <th>duration_ms</th>\n",
       "      <th>time_signature</th>\n",
       "    </tr>\n",
       "  </thead>\n",
       "  <tbody>\n",
       "    <tr>\n",
       "      <th>0</th>\n",
       "      <td>Chord Overstreet</td>\n",
       "      <td>Hold On</td>\n",
       "      <td>5vjLSffimiIP26QG5WcN2K</td>\n",
       "      <td>79</td>\n",
       "      <td>2017</td>\n",
       "      <td>acoustic</td>\n",
       "      <td>0.618</td>\n",
       "      <td>0.443</td>\n",
       "      <td>2</td>\n",
       "      <td>-9.681</td>\n",
       "      <td>1</td>\n",
       "      <td>0.0526</td>\n",
       "      <td>0.469</td>\n",
       "      <td>0.000000</td>\n",
       "      <td>0.0829</td>\n",
       "      <td>0.167</td>\n",
       "      <td>119.949</td>\n",
       "      <td>198853</td>\n",
       "      <td>4</td>\n",
       "    </tr>\n",
       "    <tr>\n",
       "      <th>1</th>\n",
       "      <td>Iron &amp; Wine</td>\n",
       "      <td>Call It Dreaming</td>\n",
       "      <td>1MxHIIzcTeFnaNsDGY3pfj</td>\n",
       "      <td>63</td>\n",
       "      <td>2017</td>\n",
       "      <td>acoustic</td>\n",
       "      <td>0.512</td>\n",
       "      <td>0.501</td>\n",
       "      <td>5</td>\n",
       "      <td>-9.971</td>\n",
       "      <td>1</td>\n",
       "      <td>0.0325</td>\n",
       "      <td>0.609</td>\n",
       "      <td>0.000063</td>\n",
       "      <td>0.0973</td>\n",
       "      <td>0.726</td>\n",
       "      <td>79.989</td>\n",
       "      <td>231755</td>\n",
       "      <td>4</td>\n",
       "    </tr>\n",
       "    <tr>\n",
       "      <th>2</th>\n",
       "      <td>Kina Grannis</td>\n",
       "      <td>Iris</td>\n",
       "      <td>5oV8bZaShr2d01FFMHBUPq</td>\n",
       "      <td>60</td>\n",
       "      <td>2017</td>\n",
       "      <td>acoustic</td>\n",
       "      <td>0.497</td>\n",
       "      <td>0.130</td>\n",
       "      <td>6</td>\n",
       "      <td>-15.571</td>\n",
       "      <td>1</td>\n",
       "      <td>0.0436</td>\n",
       "      <td>0.841</td>\n",
       "      <td>0.000000</td>\n",
       "      <td>0.1110</td>\n",
       "      <td>0.179</td>\n",
       "      <td>130.769</td>\n",
       "      <td>181136</td>\n",
       "      <td>3</td>\n",
       "    </tr>\n",
       "    <tr>\n",
       "      <th>3</th>\n",
       "      <td>Andrew Belle</td>\n",
       "      <td>When the End Comes</td>\n",
       "      <td>3Et4LKZLnXygPYfNdeB3D3</td>\n",
       "      <td>52</td>\n",
       "      <td>2017</td>\n",
       "      <td>acoustic</td>\n",
       "      <td>0.541</td>\n",
       "      <td>0.575</td>\n",
       "      <td>9</td>\n",
       "      <td>-9.463</td>\n",
       "      <td>1</td>\n",
       "      <td>0.0491</td>\n",
       "      <td>0.677</td>\n",
       "      <td>0.215000</td>\n",
       "      <td>0.1020</td>\n",
       "      <td>0.428</td>\n",
       "      <td>91.980</td>\n",
       "      <td>354400</td>\n",
       "      <td>4</td>\n",
       "    </tr>\n",
       "    <tr>\n",
       "      <th>4</th>\n",
       "      <td>NEEDTOBREATHE</td>\n",
       "      <td>WALKING ON WATER</td>\n",
       "      <td>0WWUC8RjWvuBTkiiFDxyQf</td>\n",
       "      <td>48</td>\n",
       "      <td>2017</td>\n",
       "      <td>acoustic</td>\n",
       "      <td>0.534</td>\n",
       "      <td>0.784</td>\n",
       "      <td>0</td>\n",
       "      <td>-6.542</td>\n",
       "      <td>1</td>\n",
       "      <td>0.0476</td>\n",
       "      <td>0.125</td>\n",
       "      <td>0.000009</td>\n",
       "      <td>0.0753</td>\n",
       "      <td>0.251</td>\n",
       "      <td>118.011</td>\n",
       "      <td>246933</td>\n",
       "      <td>4</td>\n",
       "    </tr>\n",
       "  </tbody>\n",
       "</table>\n",
       "</div>"
      ],
      "text/plain": [
       "        artist_name          track_name                track_id  popularity  \\\n",
       "0  Chord Overstreet             Hold On  5vjLSffimiIP26QG5WcN2K          79   \n",
       "1       Iron & Wine    Call It Dreaming  1MxHIIzcTeFnaNsDGY3pfj          63   \n",
       "2      Kina Grannis                Iris  5oV8bZaShr2d01FFMHBUPq          60   \n",
       "3      Andrew Belle  When the End Comes  3Et4LKZLnXygPYfNdeB3D3          52   \n",
       "4     NEEDTOBREATHE    WALKING ON WATER  0WWUC8RjWvuBTkiiFDxyQf          48   \n",
       "\n",
       "   year     genre  danceability  energy  key  loudness  mode  speechiness  \\\n",
       "0  2017  acoustic         0.618   0.443    2    -9.681     1       0.0526   \n",
       "1  2017  acoustic         0.512   0.501    5    -9.971     1       0.0325   \n",
       "2  2017  acoustic         0.497   0.130    6   -15.571     1       0.0436   \n",
       "3  2017  acoustic         0.541   0.575    9    -9.463     1       0.0491   \n",
       "4  2017  acoustic         0.534   0.784    0    -6.542     1       0.0476   \n",
       "\n",
       "   acousticness  instrumentalness  liveness  valence    tempo  duration_ms  \\\n",
       "0         0.469          0.000000    0.0829    0.167  119.949       198853   \n",
       "1         0.609          0.000063    0.0973    0.726   79.989       231755   \n",
       "2         0.841          0.000000    0.1110    0.179  130.769       181136   \n",
       "3         0.677          0.215000    0.1020    0.428   91.980       354400   \n",
       "4         0.125          0.000009    0.0753    0.251  118.011       246933   \n",
       "\n",
       "   time_signature  \n",
       "0               4  \n",
       "1               4  \n",
       "2               3  \n",
       "3               4  \n",
       "4               4  "
      ]
     },
     "execution_count": 9,
     "metadata": {},
     "output_type": "execute_result"
    }
   ],
   "source": [
    "df.drop('Unnamed: 0', axis=1, inplace=True)\n",
    "df.head()"
   ]
  },
  {
   "cell_type": "code",
   "execution_count": 17,
   "metadata": {},
   "outputs": [
    {
     "name": "stdout",
     "output_type": "stream",
     "text": [
      "Có những giá trị bị thiếu trong dữ liệu.\n",
      "           cột     giá trị thiếu\n",
      "0  artist_name                15\n",
      "1   track_name                33\n"
     ]
    }
   ],
   "source": [
    "names = []\n",
    "values = []\n",
    "\n",
    "def check_missing(df):\n",
    "    if df.isnull().values.any():\n",
    "        print(\"Có những giá trị bị thiếu trong dữ liệu.\")\n",
    "        return True\n",
    "    else:\n",
    "        print(\"Dữ liệu không có giá trị bị thiếu.\")\n",
    "        return False\n",
    "\n",
    "\n",
    "file_path = 'merged_data.csv'\n",
    "df = pd.read_csv(file_path)\n",
    "\n",
    "if check_missing(df):\n",
    "    for col_name in df.columns:\n",
    "        if df[col_name].isnull().any():\n",
    "            names.append(col_name)\n",
    "            values.append(df[col_name].isnull().sum())\n",
    "\n",
    "    missing = {\"cột\": names, \"   giá trị thiếu\": values}\n",
    "    missingDf = pd.DataFrame(missing)\n",
    "    print(missingDf)\n",
    "else:\n",
    "    print(\"Không có giá trị bị thiếu trong dữ liệu.\")"
   ]
  },
  {
   "cell_type": "markdown",
   "metadata": {},
   "source": [
    "- Có 2 cột bị thiếu giá trị là: `artist_name`(15), `track_name`(33) => vì dữ liệu bị thiếu rất ít so với tập dữ liệu nên ta sẽ `xóa` các giá trị này đi."
   ]
  },
  {
   "cell_type": "code",
   "execution_count": 18,
   "metadata": {},
   "outputs": [
    {
     "name": "stdout",
     "output_type": "stream",
     "text": [
      "Dữ liệu không có giá trị bị thiếu.\n"
     ]
    }
   ],
   "source": [
    "df = df.dropna()\n",
    "assert check_missing(df) == False"
   ]
  },
  {
   "cell_type": "code",
   "execution_count": 19,
   "metadata": {},
   "outputs": [
    {
     "name": "stdout",
     "output_type": "stream",
     "text": [
      "Không có giá trị trùng lặp trong track_id\n"
     ]
    }
   ],
   "source": [
    "def check_duplicated(df, column_name):\n",
    "    duplicates_in_unique_column = df[df.duplicated(column_name)]\n",
    "    duplicates_count = duplicates_in_unique_column.shape[0]\n",
    "    if((duplicates_count) == 0) :\n",
    "        print(\"Không có giá trị trùng lặp trong \" + column_name)\n",
    "    else:\n",
    "        print(\"Có {duplicates_count} giá trị trùng lặp trong \" + column_name)\n",
    "        \n",
    "check_duplicated(df, \"track_id\")"
   ]
  },
  {
   "cell_type": "code",
   "execution_count": 20,
   "metadata": {},
   "outputs": [
    {
     "name": "stdout",
     "output_type": "stream",
     "text": [
      "Từ năm 2000 đến năm 2023\n"
     ]
    }
   ],
   "source": [
    "df = df.sort_values(by=[\"year\"],ascending=True)\n",
    "print(\"Từ năm \"  + str(df[\"year\"].min()) + \" đến năm \" + str(df[\"year\"].max()))"
   ]
  },
  {
   "cell_type": "markdown",
   "metadata": {},
   "source": [
    "Loại bỏ các cột không cần thiết"
   ]
  },
  {
   "cell_type": "code",
   "execution_count": 22,
   "metadata": {},
   "outputs": [
    {
     "name": "stdout",
     "output_type": "stream",
     "text": [
      "Các cột đã được loại bỏ và DataFrame mới đã được lưu vào: merged_data_removed_cols.csv\n"
     ]
    }
   ],
   "source": [
    "\n",
    "file_path = 'merged_data.csv'\n",
    "df = pd.read_csv(file_path)\n",
    "\n",
    "df.drop(['time_signature', 'valence', 'liveness', 'loudness','key','energy', 'mode',\n",
    "         'speechiness','instrumentalness','tempo','duration_ms'], axis=1, inplace=True)\n",
    "\n",
    "df.to_csv('merged_data_removed_cols.csv', index=False)\n",
    "\n",
    "print(f'Các cột đã được loại bỏ và DataFrame mới đã được lưu vào: merged_data_removed_cols.csv')"
   ]
  },
  {
   "cell_type": "markdown",
   "metadata": {},
   "source": [
    "Hiển thị số liệu thống kê tóm tắt"
   ]
  },
  {
   "cell_type": "code",
   "execution_count": 23,
   "metadata": {},
   "outputs": [
    {
     "data": {
      "text/html": [
       "<div>\n",
       "<style scoped>\n",
       "    .dataframe tbody tr th:only-of-type {\n",
       "        vertical-align: middle;\n",
       "    }\n",
       "\n",
       "    .dataframe tbody tr th {\n",
       "        vertical-align: top;\n",
       "    }\n",
       "\n",
       "    .dataframe thead th {\n",
       "        text-align: right;\n",
       "    }\n",
       "</style>\n",
       "<table border=\"1\" class=\"dataframe\">\n",
       "  <thead>\n",
       "    <tr style=\"text-align: right;\">\n",
       "      <th></th>\n",
       "      <th>Unnamed: 0</th>\n",
       "      <th>popularity</th>\n",
       "      <th>year</th>\n",
       "      <th>danceability</th>\n",
       "      <th>acousticness</th>\n",
       "    </tr>\n",
       "  </thead>\n",
       "  <tbody>\n",
       "    <tr>\n",
       "      <th>count</th>\n",
       "      <td>1048575.0000</td>\n",
       "      <td>1048575.0000</td>\n",
       "      <td>1048575.0000</td>\n",
       "      <td>1048575.0000</td>\n",
       "      <td>1048575.0000</td>\n",
       "    </tr>\n",
       "    <tr>\n",
       "      <th>mean</th>\n",
       "      <td>582051.3699</td>\n",
       "      <td>18.7469</td>\n",
       "      <td>2012.1351</td>\n",
       "      <td>0.5378</td>\n",
       "      <td>0.3216</td>\n",
       "    </tr>\n",
       "    <tr>\n",
       "      <th>std</th>\n",
       "      <td>375524.1047</td>\n",
       "      <td>16.0704</td>\n",
       "      <td>7.1281</td>\n",
       "      <td>0.1846</td>\n",
       "      <td>0.3548</td>\n",
       "    </tr>\n",
       "    <tr>\n",
       "      <th>min</th>\n",
       "      <td>0.0000</td>\n",
       "      <td>0.0000</td>\n",
       "      <td>2000.0000</td>\n",
       "      <td>0.0000</td>\n",
       "      <td>0.0000</td>\n",
       "    </tr>\n",
       "    <tr>\n",
       "      <th>25%</th>\n",
       "      <td>262143.5000</td>\n",
       "      <td>5.0000</td>\n",
       "      <td>2006.0000</td>\n",
       "      <td>0.4130</td>\n",
       "      <td>0.0066</td>\n",
       "    </tr>\n",
       "    <tr>\n",
       "      <th>50%</th>\n",
       "      <td>524287.0000</td>\n",
       "      <td>16.0000</td>\n",
       "      <td>2013.0000</td>\n",
       "      <td>0.5510</td>\n",
       "      <td>0.1480</td>\n",
       "    </tr>\n",
       "    <tr>\n",
       "      <th>75%</th>\n",
       "      <td>908899.5000</td>\n",
       "      <td>29.0000</td>\n",
       "      <td>2018.0000</td>\n",
       "      <td>0.6780</td>\n",
       "      <td>0.6390</td>\n",
       "    </tr>\n",
       "    <tr>\n",
       "      <th>max</th>\n",
       "      <td>1298749.0000</td>\n",
       "      <td>100.0000</td>\n",
       "      <td>2023.0000</td>\n",
       "      <td>0.9920</td>\n",
       "      <td>0.9960</td>\n",
       "    </tr>\n",
       "  </tbody>\n",
       "</table>\n",
       "</div>"
      ],
      "text/plain": [
       "        Unnamed: 0   popularity         year  danceability  acousticness\n",
       "count 1048575.0000 1048575.0000 1048575.0000  1048575.0000  1048575.0000\n",
       "mean   582051.3699      18.7469    2012.1351        0.5378        0.3216\n",
       "std    375524.1047      16.0704       7.1281        0.1846        0.3548\n",
       "min         0.0000       0.0000    2000.0000        0.0000        0.0000\n",
       "25%    262143.5000       5.0000    2006.0000        0.4130        0.0066\n",
       "50%    524287.0000      16.0000    2013.0000        0.5510        0.1480\n",
       "75%    908899.5000      29.0000    2018.0000        0.6780        0.6390\n",
       "max   1298749.0000     100.0000    2023.0000        0.9920        0.9960"
      ]
     },
     "execution_count": 23,
     "metadata": {},
     "output_type": "execute_result"
    }
   ],
   "source": [
    "summary_statistics =  df.describe()\n",
    "pd.set_option('display.float_format', lambda x: '%.4f' % x)\n",
    "summary_statistics"
   ]
  },
  {
   "cell_type": "code",
   "execution_count": 24,
   "metadata": {},
   "outputs": [
    {
     "data": {
      "text/plain": [
       "(1048575, 9)"
      ]
     },
     "execution_count": 24,
     "metadata": {},
     "output_type": "execute_result"
    }
   ],
   "source": [
    "df.shape"
   ]
  },
  {
   "cell_type": "code",
   "execution_count": 27,
   "metadata": {},
   "outputs": [
    {
     "name": "stdout",
     "output_type": "stream",
     "text": [
      "Tất cả giá trị trong 'Unnamed: 0' có cùng kiểu dữ liệu: True\n",
      "Tất cả giá trị trong 'artist_name' có cùng kiểu dữ liệu: False\n",
      "Tất cả giá trị trong 'track_name' có cùng kiểu dữ liệu: False\n",
      "Tất cả giá trị trong 'track_id' có cùng kiểu dữ liệu: True\n",
      "Tất cả giá trị trong 'popularity' có cùng kiểu dữ liệu: True\n",
      "Tất cả giá trị trong 'year' có cùng kiểu dữ liệu: True\n",
      "Tất cả giá trị trong 'genre' có cùng kiểu dữ liệu: True\n",
      "Tất cả giá trị trong 'danceability' có cùng kiểu dữ liệu: True\n",
      "Tất cả giá trị trong 'acousticness' có cùng kiểu dữ liệu: True\n"
     ]
    }
   ],
   "source": [
    "for col in df.columns :\n",
    "    is_same_data_type = df[col].apply(lambda x: type(x)).nunique() == 1\n",
    "    print(f\"Tất cả giá trị trong '{col}' có cùng kiểu dữ liệu: {is_same_data_type}\")"
   ]
  },
  {
   "cell_type": "markdown",
   "metadata": {},
   "source": [
    "- Dữ liệu có 9 cột:\n",
    ">- `Unnamed: 0`, `popularity`, `year` thuộc kiểu dữ liệu `int64`\n",
    ">- `artist_name`, `track_name`, `track_id`, `genre` thuộc kiểu `object`\n",
    ">- `danceability`, `acousticness` thuộc kiểu dữ liệu `float64`"
   ]
  }
 ],
 "metadata": {
  "kernelspec": {
   "display_name": "Python 3",
   "language": "python",
   "name": "python3"
  },
  "language_info": {
   "codemirror_mode": {
    "name": "ipython",
    "version": 3
   },
   "file_extension": ".py",
   "mimetype": "text/x-python",
   "name": "python",
   "nbconvert_exporter": "python",
   "pygments_lexer": "ipython3",
   "version": "3.12.1"
  }
 },
 "nbformat": 4,
 "nbformat_minor": 2
}
