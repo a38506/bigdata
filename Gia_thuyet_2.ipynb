{
  "cells": [
    {
      "cell_type": "code",
      "execution_count": null,
      "id": "18b55fdc",
      "metadata": {
        "id": "18b55fdc"
      },
      "outputs": [],
      "source": [
        "import pandas as pd\n",
        "import numpy as np\n",
        "import seaborn as sns\n",
        "import matplotlib.pyplot as plt"
      ]
    },
    {
      "cell_type": "code",
      "execution_count": null,
      "id": "07660334",
      "metadata": {
        "id": "07660334"
      },
      "outputs": [],
      "source": [
        "df = pd.read_csv('merged_data_removed_cols.csv')"
      ]
    },
    {
      "cell_type": "code",
      "execution_count": null,
      "id": "5cb3b6be",
      "metadata": {
        "id": "5cb3b6be",
        "outputId": "fecd84b8-2a4c-4022-9075-d73840113a54"
      },
      "outputs": [
        {
          "data": {
            "text/html": [
              "<div>\n",
              "<style scoped>\n",
              "    .dataframe tbody tr th:only-of-type {\n",
              "        vertical-align: middle;\n",
              "    }\n",
              "\n",
              "    .dataframe tbody tr th {\n",
              "        vertical-align: top;\n",
              "    }\n",
              "\n",
              "    .dataframe thead th {\n",
              "        text-align: right;\n",
              "    }\n",
              "</style>\n",
              "<table border=\"1\" class=\"dataframe\">\n",
              "  <thead>\n",
              "    <tr style=\"text-align: right;\">\n",
              "      <th></th>\n",
              "      <th>Unnamed: 0</th>\n",
              "      <th>artist_name</th>\n",
              "      <th>track_name</th>\n",
              "      <th>track_id</th>\n",
              "      <th>popularity</th>\n",
              "      <th>year</th>\n",
              "      <th>genre</th>\n",
              "      <th>danceability</th>\n",
              "      <th>acousticness</th>\n",
              "    </tr>\n",
              "  </thead>\n",
              "  <tbody>\n",
              "    <tr>\n",
              "      <th>0</th>\n",
              "      <td>622652</td>\n",
              "      <td>Five For Fighting</td>\n",
              "      <td>Easy Tonight</td>\n",
              "      <td>57PHqrPsX6E7OX9LeKSo9Q</td>\n",
              "      <td>37</td>\n",
              "      <td>2000</td>\n",
              "      <td>acoustic</td>\n",
              "      <td>0.470</td>\n",
              "      <td>0.2590</td>\n",
              "    </tr>\n",
              "    <tr>\n",
              "      <th>1</th>\n",
              "      <td>622653</td>\n",
              "      <td>Stephen Speaks</td>\n",
              "      <td>Passenger Seat</td>\n",
              "      <td>67E65R1XMIKCzRrJ3pC5IS</td>\n",
              "      <td>54</td>\n",
              "      <td>2000</td>\n",
              "      <td>acoustic</td>\n",
              "      <td>0.550</td>\n",
              "      <td>0.0237</td>\n",
              "    </tr>\n",
              "    <tr>\n",
              "      <th>2</th>\n",
              "      <td>622654</td>\n",
              "      <td>Chris Smither</td>\n",
              "      <td>No Love Today</td>\n",
              "      <td>6KmJfZCd5f4P11vuglbIrN</td>\n",
              "      <td>34</td>\n",
              "      <td>2000</td>\n",
              "      <td>acoustic</td>\n",
              "      <td>0.557</td>\n",
              "      <td>0.8490</td>\n",
              "    </tr>\n",
              "    <tr>\n",
              "      <th>3</th>\n",
              "      <td>622655</td>\n",
              "      <td>Chris Smither</td>\n",
              "      <td>Link Of Chain</td>\n",
              "      <td>16N2lpCidTNYdNq2YZhE98</td>\n",
              "      <td>35</td>\n",
              "      <td>2000</td>\n",
              "      <td>acoustic</td>\n",
              "      <td>0.445</td>\n",
              "      <td>0.8830</td>\n",
              "    </tr>\n",
              "    <tr>\n",
              "      <th>4</th>\n",
              "      <td>622656</td>\n",
              "      <td>Bob Schneider</td>\n",
              "      <td>Big Blue Sea</td>\n",
              "      <td>4maIlg3dss7yA23mBdTYdM</td>\n",
              "      <td>27</td>\n",
              "      <td>2000</td>\n",
              "      <td>acoustic</td>\n",
              "      <td>0.671</td>\n",
              "      <td>0.5540</td>\n",
              "    </tr>\n",
              "  </tbody>\n",
              "</table>\n",
              "</div>"
            ],
            "text/plain": [
              "   Unnamed: 0        artist_name      track_name                track_id  \\\n",
              "0      622652  Five For Fighting    Easy Tonight  57PHqrPsX6E7OX9LeKSo9Q   \n",
              "1      622653     Stephen Speaks  Passenger Seat  67E65R1XMIKCzRrJ3pC5IS   \n",
              "2      622654      Chris Smither   No Love Today  6KmJfZCd5f4P11vuglbIrN   \n",
              "3      622655      Chris Smither   Link Of Chain  16N2lpCidTNYdNq2YZhE98   \n",
              "4      622656      Bob Schneider    Big Blue Sea  4maIlg3dss7yA23mBdTYdM   \n",
              "\n",
              "   popularity  year     genre  danceability  acousticness  \n",
              "0          37  2000  acoustic         0.470        0.2590  \n",
              "1          54  2000  acoustic         0.550        0.0237  \n",
              "2          34  2000  acoustic         0.557        0.8490  \n",
              "3          35  2000  acoustic         0.445        0.8830  \n",
              "4          27  2000  acoustic         0.671        0.5540  "
            ]
          },
          "execution_count": 9,
          "metadata": {},
          "output_type": "execute_result"
        }
      ],
      "source": [
        "df.head()"
      ]
    },
    {
      "cell_type": "code",
      "execution_count": null,
      "id": "7e063d2a",
      "metadata": {
        "colab": {
          "base_uri": "https://localhost:8080/"
        },
        "id": "7e063d2a",
        "outputId": "3f3deb82-a475-4de6-9709-78d422a55c8c"
      },
      "outputs": [
        {
          "output_type": "stream",
          "name": "stdout",
          "text": [
            "<class 'pandas.core.frame.DataFrame'>\n",
            "RangeIndex: 1048575 entries, 0 to 1048574\n",
            "Data columns (total 9 columns):\n",
            " #   Column        Non-Null Count    Dtype  \n",
            "---  ------        --------------    -----  \n",
            " 0   Unnamed: 0    1048575 non-null  int64  \n",
            " 1   artist_name   1048560 non-null  object \n",
            " 2   track_name    1048542 non-null  object \n",
            " 3   track_id      1048575 non-null  object \n",
            " 4   popularity    1048575 non-null  int64  \n",
            " 5   year          1048575 non-null  int64  \n",
            " 6   genre         1048575 non-null  object \n",
            " 7   danceability  1048575 non-null  float64\n",
            " 8   acousticness  1048575 non-null  float64\n",
            "dtypes: float64(2), int64(3), object(4)\n",
            "memory usage: 72.0+ MB\n"
          ]
        }
      ],
      "source": [
        "df.info()"
      ]
    },
    {
      "cell_type": "code",
      "source": [],
      "metadata": {
        "id": "cT0Xkr52HeuW"
      },
      "id": "cT0Xkr52HeuW",
      "execution_count": null,
      "outputs": []
    },
    {
      "cell_type": "markdown",
      "id": "6c605a0c",
      "metadata": {
        "id": "6c605a0c"
      },
      "source": [
        "- Dữ liệu có 9 cột:\n",
        ">- `Unnamed: 0`, `popularity`, `year` thuộc kiểu dữ liệu `int64`\n",
        ">- `artist_name`, `track_name`, `track_id`, `genre` thuộc kiểu `object`\n",
        ">- `danceability`, `acousticness` thuộc kiểu dữ liệu `float64`"
      ]
    },
    {
      "cell_type": "markdown",
      "source": [],
      "metadata": {
        "id": "cIky3p3pGgCG"
      },
      "id": "cIky3p3pGgCG"
    },
    {
      "cell_type": "code",
      "execution_count": null,
      "id": "faec3ff6",
      "metadata": {
        "id": "faec3ff6"
      },
      "outputs": [],
      "source": [
        "df.drop(columns=['Unnamed: 0'], inplace=True)"
      ]
    },
    {
      "cell_type": "code",
      "execution_count": null,
      "id": "d59aa237",
      "metadata": {
        "colab": {
          "base_uri": "https://localhost:8080/"
        },
        "id": "d59aa237",
        "outputId": "57903904-b96b-4b9d-a85f-7f2ab554e0ad"
      },
      "outputs": [
        {
          "output_type": "execute_result",
          "data": {
            "text/plain": [
              "Index(['artist_name', 'track_name', 'track_id', 'popularity', 'year', 'genre',\n",
              "       'danceability', 'acousticness'],\n",
              "      dtype='object')"
            ]
          },
          "metadata": {},
          "execution_count": 8
        }
      ],
      "source": [
        "df.columns"
      ]
    },
    {
      "cell_type": "code",
      "execution_count": null,
      "id": "76d0dd7d",
      "metadata": {
        "colab": {
          "base_uri": "https://localhost:8080/"
        },
        "id": "76d0dd7d",
        "outputId": "1be6bb89-0a25-427f-f32e-599dffdbd4fd"
      },
      "outputs": [
        {
          "output_type": "execute_result",
          "data": {
            "text/plain": [
              "artist_name     15\n",
              "track_name      33\n",
              "track_id         0\n",
              "popularity       0\n",
              "year             0\n",
              "genre            0\n",
              "danceability     0\n",
              "acousticness     0\n",
              "dtype: int64"
            ]
          },
          "metadata": {},
          "execution_count": 9
        }
      ],
      "source": [
        "df.isnull().sum()"
      ]
    },
    {
      "cell_type": "markdown",
      "id": "945f7481",
      "metadata": {
        "id": "945f7481"
      },
      "source": [
        "- Có 2 cột bị thiếu giá trị là: `artist_name`(15), `track_name`(33) => vì dữ liệu bị thiếu rất ít so với tập dữ liệu nên ta sẽ `xóa` các giá trị này đi."
      ]
    },
    {
      "cell_type": "code",
      "execution_count": null,
      "id": "4818a572",
      "metadata": {
        "id": "4818a572"
      },
      "outputs": [],
      "source": [
        "df.dropna(inplace=True)"
      ]
    },
    {
      "cell_type": "code",
      "execution_count": null,
      "id": "afabd2c5",
      "metadata": {
        "id": "afabd2c5",
        "outputId": "462ef141-e260-4b6e-f401-ad98ed5fb143",
        "colab": {
          "base_uri": "https://localhost:8080/"
        }
      },
      "outputs": [
        {
          "output_type": "execute_result",
          "data": {
            "text/plain": [
              "artist_name     0\n",
              "track_name      0\n",
              "track_id        0\n",
              "popularity      0\n",
              "year            0\n",
              "genre           0\n",
              "danceability    0\n",
              "acousticness    0\n",
              "dtype: int64"
            ]
          },
          "metadata": {},
          "execution_count": 13
        }
      ],
      "source": [
        "df.isnull().sum()"
      ]
    },
    {
      "cell_type": "code",
      "execution_count": null,
      "id": "2def86a7",
      "metadata": {
        "id": "2def86a7",
        "outputId": "335b8d01-472d-4991-f400-f567318138e7",
        "colab": {
          "base_uri": "https://localhost:8080/",
          "height": 206
        }
      },
      "outputs": [
        {
          "output_type": "execute_result",
          "data": {
            "text/plain": [
              "         artist_name      track_name                track_id  popularity  \\\n",
              "0  Five For Fighting    Easy Tonight  57PHqrPsX6E7OX9LeKSo9Q          37   \n",
              "1     Stephen Speaks  Passenger Seat  67E65R1XMIKCzRrJ3pC5IS          54   \n",
              "2      Chris Smither   No Love Today  6KmJfZCd5f4P11vuglbIrN          34   \n",
              "3      Chris Smither   Link Of Chain  16N2lpCidTNYdNq2YZhE98          35   \n",
              "4      Bob Schneider    Big Blue Sea  4maIlg3dss7yA23mBdTYdM          27   \n",
              "\n",
              "   year     genre  danceability  acousticness  \n",
              "0  2000  acoustic         0.470        0.2590  \n",
              "1  2000  acoustic         0.550        0.0237  \n",
              "2  2000  acoustic         0.557        0.8490  \n",
              "3  2000  acoustic         0.445        0.8830  \n",
              "4  2000  acoustic         0.671        0.5540  "
            ],
            "text/html": [
              "\n",
              "  <div id=\"df-de2036a2-ff2f-4e3f-9931-0e9eadce92e3\" class=\"colab-df-container\">\n",
              "    <div>\n",
              "<style scoped>\n",
              "    .dataframe tbody tr th:only-of-type {\n",
              "        vertical-align: middle;\n",
              "    }\n",
              "\n",
              "    .dataframe tbody tr th {\n",
              "        vertical-align: top;\n",
              "    }\n",
              "\n",
              "    .dataframe thead th {\n",
              "        text-align: right;\n",
              "    }\n",
              "</style>\n",
              "<table border=\"1\" class=\"dataframe\">\n",
              "  <thead>\n",
              "    <tr style=\"text-align: right;\">\n",
              "      <th></th>\n",
              "      <th>artist_name</th>\n",
              "      <th>track_name</th>\n",
              "      <th>track_id</th>\n",
              "      <th>popularity</th>\n",
              "      <th>year</th>\n",
              "      <th>genre</th>\n",
              "      <th>danceability</th>\n",
              "      <th>acousticness</th>\n",
              "    </tr>\n",
              "  </thead>\n",
              "  <tbody>\n",
              "    <tr>\n",
              "      <th>0</th>\n",
              "      <td>Five For Fighting</td>\n",
              "      <td>Easy Tonight</td>\n",
              "      <td>57PHqrPsX6E7OX9LeKSo9Q</td>\n",
              "      <td>37</td>\n",
              "      <td>2000</td>\n",
              "      <td>acoustic</td>\n",
              "      <td>0.470</td>\n",
              "      <td>0.2590</td>\n",
              "    </tr>\n",
              "    <tr>\n",
              "      <th>1</th>\n",
              "      <td>Stephen Speaks</td>\n",
              "      <td>Passenger Seat</td>\n",
              "      <td>67E65R1XMIKCzRrJ3pC5IS</td>\n",
              "      <td>54</td>\n",
              "      <td>2000</td>\n",
              "      <td>acoustic</td>\n",
              "      <td>0.550</td>\n",
              "      <td>0.0237</td>\n",
              "    </tr>\n",
              "    <tr>\n",
              "      <th>2</th>\n",
              "      <td>Chris Smither</td>\n",
              "      <td>No Love Today</td>\n",
              "      <td>6KmJfZCd5f4P11vuglbIrN</td>\n",
              "      <td>34</td>\n",
              "      <td>2000</td>\n",
              "      <td>acoustic</td>\n",
              "      <td>0.557</td>\n",
              "      <td>0.8490</td>\n",
              "    </tr>\n",
              "    <tr>\n",
              "      <th>3</th>\n",
              "      <td>Chris Smither</td>\n",
              "      <td>Link Of Chain</td>\n",
              "      <td>16N2lpCidTNYdNq2YZhE98</td>\n",
              "      <td>35</td>\n",
              "      <td>2000</td>\n",
              "      <td>acoustic</td>\n",
              "      <td>0.445</td>\n",
              "      <td>0.8830</td>\n",
              "    </tr>\n",
              "    <tr>\n",
              "      <th>4</th>\n",
              "      <td>Bob Schneider</td>\n",
              "      <td>Big Blue Sea</td>\n",
              "      <td>4maIlg3dss7yA23mBdTYdM</td>\n",
              "      <td>27</td>\n",
              "      <td>2000</td>\n",
              "      <td>acoustic</td>\n",
              "      <td>0.671</td>\n",
              "      <td>0.5540</td>\n",
              "    </tr>\n",
              "  </tbody>\n",
              "</table>\n",
              "</div>\n",
              "    <div class=\"colab-df-buttons\">\n",
              "\n",
              "  <div class=\"colab-df-container\">\n",
              "    <button class=\"colab-df-convert\" onclick=\"convertToInteractive('df-de2036a2-ff2f-4e3f-9931-0e9eadce92e3')\"\n",
              "            title=\"Convert this dataframe to an interactive table.\"\n",
              "            style=\"display:none;\">\n",
              "\n",
              "  <svg xmlns=\"http://www.w3.org/2000/svg\" height=\"24px\" viewBox=\"0 -960 960 960\">\n",
              "    <path d=\"M120-120v-720h720v720H120Zm60-500h600v-160H180v160Zm220 220h160v-160H400v160Zm0 220h160v-160H400v160ZM180-400h160v-160H180v160Zm440 0h160v-160H620v160ZM180-180h160v-160H180v160Zm440 0h160v-160H620v160Z\"/>\n",
              "  </svg>\n",
              "    </button>\n",
              "\n",
              "  <style>\n",
              "    .colab-df-container {\n",
              "      display:flex;\n",
              "      gap: 12px;\n",
              "    }\n",
              "\n",
              "    .colab-df-convert {\n",
              "      background-color: #E8F0FE;\n",
              "      border: none;\n",
              "      border-radius: 50%;\n",
              "      cursor: pointer;\n",
              "      display: none;\n",
              "      fill: #1967D2;\n",
              "      height: 32px;\n",
              "      padding: 0 0 0 0;\n",
              "      width: 32px;\n",
              "    }\n",
              "\n",
              "    .colab-df-convert:hover {\n",
              "      background-color: #E2EBFA;\n",
              "      box-shadow: 0px 1px 2px rgba(60, 64, 67, 0.3), 0px 1px 3px 1px rgba(60, 64, 67, 0.15);\n",
              "      fill: #174EA6;\n",
              "    }\n",
              "\n",
              "    .colab-df-buttons div {\n",
              "      margin-bottom: 4px;\n",
              "    }\n",
              "\n",
              "    [theme=dark] .colab-df-convert {\n",
              "      background-color: #3B4455;\n",
              "      fill: #D2E3FC;\n",
              "    }\n",
              "\n",
              "    [theme=dark] .colab-df-convert:hover {\n",
              "      background-color: #434B5C;\n",
              "      box-shadow: 0px 1px 3px 1px rgba(0, 0, 0, 0.15);\n",
              "      filter: drop-shadow(0px 1px 2px rgba(0, 0, 0, 0.3));\n",
              "      fill: #FFFFFF;\n",
              "    }\n",
              "  </style>\n",
              "\n",
              "    <script>\n",
              "      const buttonEl =\n",
              "        document.querySelector('#df-de2036a2-ff2f-4e3f-9931-0e9eadce92e3 button.colab-df-convert');\n",
              "      buttonEl.style.display =\n",
              "        google.colab.kernel.accessAllowed ? 'block' : 'none';\n",
              "\n",
              "      async function convertToInteractive(key) {\n",
              "        const element = document.querySelector('#df-de2036a2-ff2f-4e3f-9931-0e9eadce92e3');\n",
              "        const dataTable =\n",
              "          await google.colab.kernel.invokeFunction('convertToInteractive',\n",
              "                                                    [key], {});\n",
              "        if (!dataTable) return;\n",
              "\n",
              "        const docLinkHtml = 'Like what you see? Visit the ' +\n",
              "          '<a target=\"_blank\" href=https://colab.research.google.com/notebooks/data_table.ipynb>data table notebook</a>'\n",
              "          + ' to learn more about interactive tables.';\n",
              "        element.innerHTML = '';\n",
              "        dataTable['output_type'] = 'display_data';\n",
              "        await google.colab.output.renderOutput(dataTable, element);\n",
              "        const docLink = document.createElement('div');\n",
              "        docLink.innerHTML = docLinkHtml;\n",
              "        element.appendChild(docLink);\n",
              "      }\n",
              "    </script>\n",
              "  </div>\n",
              "\n",
              "\n",
              "<div id=\"df-8fde3c9b-b6ef-403b-a311-51f041f1dbcc\">\n",
              "  <button class=\"colab-df-quickchart\" onclick=\"quickchart('df-8fde3c9b-b6ef-403b-a311-51f041f1dbcc')\"\n",
              "            title=\"Suggest charts\"\n",
              "            style=\"display:none;\">\n",
              "\n",
              "<svg xmlns=\"http://www.w3.org/2000/svg\" height=\"24px\"viewBox=\"0 0 24 24\"\n",
              "     width=\"24px\">\n",
              "    <g>\n",
              "        <path d=\"M19 3H5c-1.1 0-2 .9-2 2v14c0 1.1.9 2 2 2h14c1.1 0 2-.9 2-2V5c0-1.1-.9-2-2-2zM9 17H7v-7h2v7zm4 0h-2V7h2v10zm4 0h-2v-4h2v4z\"/>\n",
              "    </g>\n",
              "</svg>\n",
              "  </button>\n",
              "\n",
              "<style>\n",
              "  .colab-df-quickchart {\n",
              "      --bg-color: #E8F0FE;\n",
              "      --fill-color: #1967D2;\n",
              "      --hover-bg-color: #E2EBFA;\n",
              "      --hover-fill-color: #174EA6;\n",
              "      --disabled-fill-color: #AAA;\n",
              "      --disabled-bg-color: #DDD;\n",
              "  }\n",
              "\n",
              "  [theme=dark] .colab-df-quickchart {\n",
              "      --bg-color: #3B4455;\n",
              "      --fill-color: #D2E3FC;\n",
              "      --hover-bg-color: #434B5C;\n",
              "      --hover-fill-color: #FFFFFF;\n",
              "      --disabled-bg-color: #3B4455;\n",
              "      --disabled-fill-color: #666;\n",
              "  }\n",
              "\n",
              "  .colab-df-quickchart {\n",
              "    background-color: var(--bg-color);\n",
              "    border: none;\n",
              "    border-radius: 50%;\n",
              "    cursor: pointer;\n",
              "    display: none;\n",
              "    fill: var(--fill-color);\n",
              "    height: 32px;\n",
              "    padding: 0;\n",
              "    width: 32px;\n",
              "  }\n",
              "\n",
              "  .colab-df-quickchart:hover {\n",
              "    background-color: var(--hover-bg-color);\n",
              "    box-shadow: 0 1px 2px rgba(60, 64, 67, 0.3), 0 1px 3px 1px rgba(60, 64, 67, 0.15);\n",
              "    fill: var(--button-hover-fill-color);\n",
              "  }\n",
              "\n",
              "  .colab-df-quickchart-complete:disabled,\n",
              "  .colab-df-quickchart-complete:disabled:hover {\n",
              "    background-color: var(--disabled-bg-color);\n",
              "    fill: var(--disabled-fill-color);\n",
              "    box-shadow: none;\n",
              "  }\n",
              "\n",
              "  .colab-df-spinner {\n",
              "    border: 2px solid var(--fill-color);\n",
              "    border-color: transparent;\n",
              "    border-bottom-color: var(--fill-color);\n",
              "    animation:\n",
              "      spin 1s steps(1) infinite;\n",
              "  }\n",
              "\n",
              "  @keyframes spin {\n",
              "    0% {\n",
              "      border-color: transparent;\n",
              "      border-bottom-color: var(--fill-color);\n",
              "      border-left-color: var(--fill-color);\n",
              "    }\n",
              "    20% {\n",
              "      border-color: transparent;\n",
              "      border-left-color: var(--fill-color);\n",
              "      border-top-color: var(--fill-color);\n",
              "    }\n",
              "    30% {\n",
              "      border-color: transparent;\n",
              "      border-left-color: var(--fill-color);\n",
              "      border-top-color: var(--fill-color);\n",
              "      border-right-color: var(--fill-color);\n",
              "    }\n",
              "    40% {\n",
              "      border-color: transparent;\n",
              "      border-right-color: var(--fill-color);\n",
              "      border-top-color: var(--fill-color);\n",
              "    }\n",
              "    60% {\n",
              "      border-color: transparent;\n",
              "      border-right-color: var(--fill-color);\n",
              "    }\n",
              "    80% {\n",
              "      border-color: transparent;\n",
              "      border-right-color: var(--fill-color);\n",
              "      border-bottom-color: var(--fill-color);\n",
              "    }\n",
              "    90% {\n",
              "      border-color: transparent;\n",
              "      border-bottom-color: var(--fill-color);\n",
              "    }\n",
              "  }\n",
              "</style>\n",
              "\n",
              "  <script>\n",
              "    async function quickchart(key) {\n",
              "      const quickchartButtonEl =\n",
              "        document.querySelector('#' + key + ' button');\n",
              "      quickchartButtonEl.disabled = true;  // To prevent multiple clicks.\n",
              "      quickchartButtonEl.classList.add('colab-df-spinner');\n",
              "      try {\n",
              "        const charts = await google.colab.kernel.invokeFunction(\n",
              "            'suggestCharts', [key], {});\n",
              "      } catch (error) {\n",
              "        console.error('Error during call to suggestCharts:', error);\n",
              "      }\n",
              "      quickchartButtonEl.classList.remove('colab-df-spinner');\n",
              "      quickchartButtonEl.classList.add('colab-df-quickchart-complete');\n",
              "    }\n",
              "    (() => {\n",
              "      let quickchartButtonEl =\n",
              "        document.querySelector('#df-8fde3c9b-b6ef-403b-a311-51f041f1dbcc button');\n",
              "      quickchartButtonEl.style.display =\n",
              "        google.colab.kernel.accessAllowed ? 'block' : 'none';\n",
              "    })();\n",
              "  </script>\n",
              "</div>\n",
              "\n",
              "    </div>\n",
              "  </div>\n"
            ]
          },
          "metadata": {},
          "execution_count": 14
        }
      ],
      "source": [
        "df.head()"
      ]
    },
    {
      "cell_type": "code",
      "execution_count": null,
      "id": "08c779ff",
      "metadata": {
        "id": "08c779ff",
        "outputId": "9c1a1c31-de59-4f1c-803d-ef69acf26dc9",
        "colab": {
          "base_uri": "https://localhost:8080/",
          "height": 739
        }
      },
      "outputs": [
        {
          "output_type": "execute_result",
          "data": {
            "text/plain": [
              "    year  number\n",
              "0   2000   44034\n",
              "1   2001   42339\n",
              "2   2002   42100\n",
              "3   2003   42368\n",
              "4   2004   43390\n",
              "5   2005   43779\n",
              "6   2006   45474\n",
              "7   2007   46001\n",
              "8   2008   47431\n",
              "9   2009   28992\n",
              "10  2012   54788\n",
              "11  2013   53215\n",
              "12  2014   53179\n",
              "13  2015   51607\n",
              "14  2016   40271\n",
              "15  2017   56236\n",
              "16  2018   56565\n",
              "17  2019   55787\n",
              "18  2020   55065\n",
              "19  2021   53566\n",
              "20  2022   53691\n",
              "21  2023   38649"
            ],
            "text/html": [
              "\n",
              "  <div id=\"df-e758a11a-f88e-4384-91ad-5aa98eb687d3\" class=\"colab-df-container\">\n",
              "    <div>\n",
              "<style scoped>\n",
              "    .dataframe tbody tr th:only-of-type {\n",
              "        vertical-align: middle;\n",
              "    }\n",
              "\n",
              "    .dataframe tbody tr th {\n",
              "        vertical-align: top;\n",
              "    }\n",
              "\n",
              "    .dataframe thead th {\n",
              "        text-align: right;\n",
              "    }\n",
              "</style>\n",
              "<table border=\"1\" class=\"dataframe\">\n",
              "  <thead>\n",
              "    <tr style=\"text-align: right;\">\n",
              "      <th></th>\n",
              "      <th>year</th>\n",
              "      <th>number</th>\n",
              "    </tr>\n",
              "  </thead>\n",
              "  <tbody>\n",
              "    <tr>\n",
              "      <th>0</th>\n",
              "      <td>2000</td>\n",
              "      <td>44034</td>\n",
              "    </tr>\n",
              "    <tr>\n",
              "      <th>1</th>\n",
              "      <td>2001</td>\n",
              "      <td>42339</td>\n",
              "    </tr>\n",
              "    <tr>\n",
              "      <th>2</th>\n",
              "      <td>2002</td>\n",
              "      <td>42100</td>\n",
              "    </tr>\n",
              "    <tr>\n",
              "      <th>3</th>\n",
              "      <td>2003</td>\n",
              "      <td>42368</td>\n",
              "    </tr>\n",
              "    <tr>\n",
              "      <th>4</th>\n",
              "      <td>2004</td>\n",
              "      <td>43390</td>\n",
              "    </tr>\n",
              "    <tr>\n",
              "      <th>5</th>\n",
              "      <td>2005</td>\n",
              "      <td>43779</td>\n",
              "    </tr>\n",
              "    <tr>\n",
              "      <th>6</th>\n",
              "      <td>2006</td>\n",
              "      <td>45474</td>\n",
              "    </tr>\n",
              "    <tr>\n",
              "      <th>7</th>\n",
              "      <td>2007</td>\n",
              "      <td>46001</td>\n",
              "    </tr>\n",
              "    <tr>\n",
              "      <th>8</th>\n",
              "      <td>2008</td>\n",
              "      <td>47431</td>\n",
              "    </tr>\n",
              "    <tr>\n",
              "      <th>9</th>\n",
              "      <td>2009</td>\n",
              "      <td>28992</td>\n",
              "    </tr>\n",
              "    <tr>\n",
              "      <th>10</th>\n",
              "      <td>2012</td>\n",
              "      <td>54788</td>\n",
              "    </tr>\n",
              "    <tr>\n",
              "      <th>11</th>\n",
              "      <td>2013</td>\n",
              "      <td>53215</td>\n",
              "    </tr>\n",
              "    <tr>\n",
              "      <th>12</th>\n",
              "      <td>2014</td>\n",
              "      <td>53179</td>\n",
              "    </tr>\n",
              "    <tr>\n",
              "      <th>13</th>\n",
              "      <td>2015</td>\n",
              "      <td>51607</td>\n",
              "    </tr>\n",
              "    <tr>\n",
              "      <th>14</th>\n",
              "      <td>2016</td>\n",
              "      <td>40271</td>\n",
              "    </tr>\n",
              "    <tr>\n",
              "      <th>15</th>\n",
              "      <td>2017</td>\n",
              "      <td>56236</td>\n",
              "    </tr>\n",
              "    <tr>\n",
              "      <th>16</th>\n",
              "      <td>2018</td>\n",
              "      <td>56565</td>\n",
              "    </tr>\n",
              "    <tr>\n",
              "      <th>17</th>\n",
              "      <td>2019</td>\n",
              "      <td>55787</td>\n",
              "    </tr>\n",
              "    <tr>\n",
              "      <th>18</th>\n",
              "      <td>2020</td>\n",
              "      <td>55065</td>\n",
              "    </tr>\n",
              "    <tr>\n",
              "      <th>19</th>\n",
              "      <td>2021</td>\n",
              "      <td>53566</td>\n",
              "    </tr>\n",
              "    <tr>\n",
              "      <th>20</th>\n",
              "      <td>2022</td>\n",
              "      <td>53691</td>\n",
              "    </tr>\n",
              "    <tr>\n",
              "      <th>21</th>\n",
              "      <td>2023</td>\n",
              "      <td>38649</td>\n",
              "    </tr>\n",
              "  </tbody>\n",
              "</table>\n",
              "</div>\n",
              "    <div class=\"colab-df-buttons\">\n",
              "\n",
              "  <div class=\"colab-df-container\">\n",
              "    <button class=\"colab-df-convert\" onclick=\"convertToInteractive('df-e758a11a-f88e-4384-91ad-5aa98eb687d3')\"\n",
              "            title=\"Convert this dataframe to an interactive table.\"\n",
              "            style=\"display:none;\">\n",
              "\n",
              "  <svg xmlns=\"http://www.w3.org/2000/svg\" height=\"24px\" viewBox=\"0 -960 960 960\">\n",
              "    <path d=\"M120-120v-720h720v720H120Zm60-500h600v-160H180v160Zm220 220h160v-160H400v160Zm0 220h160v-160H400v160ZM180-400h160v-160H180v160Zm440 0h160v-160H620v160ZM180-180h160v-160H180v160Zm440 0h160v-160H620v160Z\"/>\n",
              "  </svg>\n",
              "    </button>\n",
              "\n",
              "  <style>\n",
              "    .colab-df-container {\n",
              "      display:flex;\n",
              "      gap: 12px;\n",
              "    }\n",
              "\n",
              "    .colab-df-convert {\n",
              "      background-color: #E8F0FE;\n",
              "      border: none;\n",
              "      border-radius: 50%;\n",
              "      cursor: pointer;\n",
              "      display: none;\n",
              "      fill: #1967D2;\n",
              "      height: 32px;\n",
              "      padding: 0 0 0 0;\n",
              "      width: 32px;\n",
              "    }\n",
              "\n",
              "    .colab-df-convert:hover {\n",
              "      background-color: #E2EBFA;\n",
              "      box-shadow: 0px 1px 2px rgba(60, 64, 67, 0.3), 0px 1px 3px 1px rgba(60, 64, 67, 0.15);\n",
              "      fill: #174EA6;\n",
              "    }\n",
              "\n",
              "    .colab-df-buttons div {\n",
              "      margin-bottom: 4px;\n",
              "    }\n",
              "\n",
              "    [theme=dark] .colab-df-convert {\n",
              "      background-color: #3B4455;\n",
              "      fill: #D2E3FC;\n",
              "    }\n",
              "\n",
              "    [theme=dark] .colab-df-convert:hover {\n",
              "      background-color: #434B5C;\n",
              "      box-shadow: 0px 1px 3px 1px rgba(0, 0, 0, 0.15);\n",
              "      filter: drop-shadow(0px 1px 2px rgba(0, 0, 0, 0.3));\n",
              "      fill: #FFFFFF;\n",
              "    }\n",
              "  </style>\n",
              "\n",
              "    <script>\n",
              "      const buttonEl =\n",
              "        document.querySelector('#df-e758a11a-f88e-4384-91ad-5aa98eb687d3 button.colab-df-convert');\n",
              "      buttonEl.style.display =\n",
              "        google.colab.kernel.accessAllowed ? 'block' : 'none';\n",
              "\n",
              "      async function convertToInteractive(key) {\n",
              "        const element = document.querySelector('#df-e758a11a-f88e-4384-91ad-5aa98eb687d3');\n",
              "        const dataTable =\n",
              "          await google.colab.kernel.invokeFunction('convertToInteractive',\n",
              "                                                    [key], {});\n",
              "        if (!dataTable) return;\n",
              "\n",
              "        const docLinkHtml = 'Like what you see? Visit the ' +\n",
              "          '<a target=\"_blank\" href=https://colab.research.google.com/notebooks/data_table.ipynb>data table notebook</a>'\n",
              "          + ' to learn more about interactive tables.';\n",
              "        element.innerHTML = '';\n",
              "        dataTable['output_type'] = 'display_data';\n",
              "        await google.colab.output.renderOutput(dataTable, element);\n",
              "        const docLink = document.createElement('div');\n",
              "        docLink.innerHTML = docLinkHtml;\n",
              "        element.appendChild(docLink);\n",
              "      }\n",
              "    </script>\n",
              "  </div>\n",
              "\n",
              "\n",
              "<div id=\"df-a0d8f25f-65f9-422e-bc9b-414eb868ed1c\">\n",
              "  <button class=\"colab-df-quickchart\" onclick=\"quickchart('df-a0d8f25f-65f9-422e-bc9b-414eb868ed1c')\"\n",
              "            title=\"Suggest charts\"\n",
              "            style=\"display:none;\">\n",
              "\n",
              "<svg xmlns=\"http://www.w3.org/2000/svg\" height=\"24px\"viewBox=\"0 0 24 24\"\n",
              "     width=\"24px\">\n",
              "    <g>\n",
              "        <path d=\"M19 3H5c-1.1 0-2 .9-2 2v14c0 1.1.9 2 2 2h14c1.1 0 2-.9 2-2V5c0-1.1-.9-2-2-2zM9 17H7v-7h2v7zm4 0h-2V7h2v10zm4 0h-2v-4h2v4z\"/>\n",
              "    </g>\n",
              "</svg>\n",
              "  </button>\n",
              "\n",
              "<style>\n",
              "  .colab-df-quickchart {\n",
              "      --bg-color: #E8F0FE;\n",
              "      --fill-color: #1967D2;\n",
              "      --hover-bg-color: #E2EBFA;\n",
              "      --hover-fill-color: #174EA6;\n",
              "      --disabled-fill-color: #AAA;\n",
              "      --disabled-bg-color: #DDD;\n",
              "  }\n",
              "\n",
              "  [theme=dark] .colab-df-quickchart {\n",
              "      --bg-color: #3B4455;\n",
              "      --fill-color: #D2E3FC;\n",
              "      --hover-bg-color: #434B5C;\n",
              "      --hover-fill-color: #FFFFFF;\n",
              "      --disabled-bg-color: #3B4455;\n",
              "      --disabled-fill-color: #666;\n",
              "  }\n",
              "\n",
              "  .colab-df-quickchart {\n",
              "    background-color: var(--bg-color);\n",
              "    border: none;\n",
              "    border-radius: 50%;\n",
              "    cursor: pointer;\n",
              "    display: none;\n",
              "    fill: var(--fill-color);\n",
              "    height: 32px;\n",
              "    padding: 0;\n",
              "    width: 32px;\n",
              "  }\n",
              "\n",
              "  .colab-df-quickchart:hover {\n",
              "    background-color: var(--hover-bg-color);\n",
              "    box-shadow: 0 1px 2px rgba(60, 64, 67, 0.3), 0 1px 3px 1px rgba(60, 64, 67, 0.15);\n",
              "    fill: var(--button-hover-fill-color);\n",
              "  }\n",
              "\n",
              "  .colab-df-quickchart-complete:disabled,\n",
              "  .colab-df-quickchart-complete:disabled:hover {\n",
              "    background-color: var(--disabled-bg-color);\n",
              "    fill: var(--disabled-fill-color);\n",
              "    box-shadow: none;\n",
              "  }\n",
              "\n",
              "  .colab-df-spinner {\n",
              "    border: 2px solid var(--fill-color);\n",
              "    border-color: transparent;\n",
              "    border-bottom-color: var(--fill-color);\n",
              "    animation:\n",
              "      spin 1s steps(1) infinite;\n",
              "  }\n",
              "\n",
              "  @keyframes spin {\n",
              "    0% {\n",
              "      border-color: transparent;\n",
              "      border-bottom-color: var(--fill-color);\n",
              "      border-left-color: var(--fill-color);\n",
              "    }\n",
              "    20% {\n",
              "      border-color: transparent;\n",
              "      border-left-color: var(--fill-color);\n",
              "      border-top-color: var(--fill-color);\n",
              "    }\n",
              "    30% {\n",
              "      border-color: transparent;\n",
              "      border-left-color: var(--fill-color);\n",
              "      border-top-color: var(--fill-color);\n",
              "      border-right-color: var(--fill-color);\n",
              "    }\n",
              "    40% {\n",
              "      border-color: transparent;\n",
              "      border-right-color: var(--fill-color);\n",
              "      border-top-color: var(--fill-color);\n",
              "    }\n",
              "    60% {\n",
              "      border-color: transparent;\n",
              "      border-right-color: var(--fill-color);\n",
              "    }\n",
              "    80% {\n",
              "      border-color: transparent;\n",
              "      border-right-color: var(--fill-color);\n",
              "      border-bottom-color: var(--fill-color);\n",
              "    }\n",
              "    90% {\n",
              "      border-color: transparent;\n",
              "      border-bottom-color: var(--fill-color);\n",
              "    }\n",
              "  }\n",
              "</style>\n",
              "\n",
              "  <script>\n",
              "    async function quickchart(key) {\n",
              "      const quickchartButtonEl =\n",
              "        document.querySelector('#' + key + ' button');\n",
              "      quickchartButtonEl.disabled = true;  // To prevent multiple clicks.\n",
              "      quickchartButtonEl.classList.add('colab-df-spinner');\n",
              "      try {\n",
              "        const charts = await google.colab.kernel.invokeFunction(\n",
              "            'suggestCharts', [key], {});\n",
              "      } catch (error) {\n",
              "        console.error('Error during call to suggestCharts:', error);\n",
              "      }\n",
              "      quickchartButtonEl.classList.remove('colab-df-spinner');\n",
              "      quickchartButtonEl.classList.add('colab-df-quickchart-complete');\n",
              "    }\n",
              "    (() => {\n",
              "      let quickchartButtonEl =\n",
              "        document.querySelector('#df-a0d8f25f-65f9-422e-bc9b-414eb868ed1c button');\n",
              "      quickchartButtonEl.style.display =\n",
              "        google.colab.kernel.accessAllowed ? 'block' : 'none';\n",
              "    })();\n",
              "  </script>\n",
              "</div>\n",
              "\n",
              "    </div>\n",
              "  </div>\n"
            ]
          },
          "metadata": {},
          "execution_count": 15
        }
      ],
      "source": [
        "df.groupby('year').size().reset_index().rename(columns={0:'number'})"
      ]
    },
    {
      "cell_type": "code",
      "execution_count": null,
      "id": "d60a58a5",
      "metadata": {
        "id": "d60a58a5",
        "outputId": "a0d25c6c-e3eb-4e68-e9a9-6eadbbd64811",
        "colab": {
          "base_uri": "https://localhost:8080/",
          "height": 471
        }
      },
      "outputs": [
        {
          "output_type": "display_data",
          "data": {
            "text/plain": [
              "<Figure size 640x480 with 1 Axes>"
            ],
            "image/png": "[encoded data removed]"
          },
          "metadata": {}
        }
      ],
      "source": [
        "# Số lượng bài hát qua các năm\n",
        "sns.countplot(data=df, x = 'year')\n",
        "plt.xticks(rotation = 90);"
      ]
    },
    {
      "cell_type": "markdown",
      "id": "2f8f6b70",
      "metadata": {
        "id": "2f8f6b70"
      },
      "source": [
        "- Năm có số bài hát được ra ít nhất là năm 2009.\n",
        "- Năm có số bài hát được ra nhiều nhất là năm 2018.\n",
        "- Hầu hết các năm đều có hơn 40k bài hát, có 3 năm số lượng bài hát ít hơn 40k là 2009, 2016, 2023."
      ]
    },
    {
      "cell_type": "code",
      "execution_count": null,
      "id": "086224be",
      "metadata": {
        "id": "086224be",
        "outputId": "28659c6d-5756-46b6-f823-86fa8a007e9c"
      },
      "outputs": [
        {
          "data": {
            "text/html": [
              "<div>\n",
              "<style scoped>\n",
              "    .dataframe tbody tr th:only-of-type {\n",
              "        vertical-align: middle;\n",
              "    }\n",
              "\n",
              "    .dataframe tbody tr th {\n",
              "        vertical-align: top;\n",
              "    }\n",
              "\n",
              "    .dataframe thead th {\n",
              "        text-align: right;\n",
              "    }\n",
              "</style>\n",
              "<table border=\"1\" class=\"dataframe\">\n",
              "  <thead>\n",
              "    <tr style=\"text-align: right;\">\n",
              "      <th></th>\n",
              "      <th>genre</th>\n",
              "      <th>number</th>\n",
              "    </tr>\n",
              "  </thead>\n",
              "  <tbody>\n",
              "    <tr>\n",
              "      <th>0</th>\n",
              "      <td>ambient</td>\n",
              "      <td>9367</td>\n",
              "    </tr>\n",
              "    <tr>\n",
              "      <th>1</th>\n",
              "      <td>gospel</td>\n",
              "      <td>8932</td>\n",
              "    </tr>\n",
              "    <tr>\n",
              "      <th>2</th>\n",
              "      <td>black-metal</td>\n",
              "      <td>8757</td>\n",
              "    </tr>\n",
              "    <tr>\n",
              "      <th>3</th>\n",
              "      <td>alt-rock</td>\n",
              "      <td>8598</td>\n",
              "    </tr>\n",
              "    <tr>\n",
              "      <th>4</th>\n",
              "      <td>emo</td>\n",
              "      <td>8572</td>\n",
              "    </tr>\n",
              "    <tr>\n",
              "      <th>5</th>\n",
              "      <td>acoustic</td>\n",
              "      <td>8275</td>\n",
              "    </tr>\n",
              "    <tr>\n",
              "      <th>6</th>\n",
              "      <td>classical</td>\n",
              "      <td>8149</td>\n",
              "    </tr>\n",
              "    <tr>\n",
              "      <th>7</th>\n",
              "      <td>french</td>\n",
              "      <td>8133</td>\n",
              "    </tr>\n",
              "    <tr>\n",
              "      <th>8</th>\n",
              "      <td>forro</td>\n",
              "      <td>8079</td>\n",
              "    </tr>\n",
              "    <tr>\n",
              "      <th>9</th>\n",
              "      <td>blues</td>\n",
              "      <td>7898</td>\n",
              "    </tr>\n",
              "  </tbody>\n",
              "</table>\n",
              "</div>"
            ],
            "text/plain": [
              "         genre  number\n",
              "0      ambient    9367\n",
              "1       gospel    8932\n",
              "2  black-metal    8757\n",
              "3     alt-rock    8598\n",
              "4          emo    8572\n",
              "5     acoustic    8275\n",
              "6    classical    8149\n",
              "7       french    8133\n",
              "8        forro    8079\n",
              "9        blues    7898"
            ]
          },
          "execution_count": 49,
          "metadata": {},
          "output_type": "execute_result"
        }
      ],
      "source": [
        "df[df['year'] < 2010]['genre'].value_counts().reset_index().rename(columns = {'index': 'genre', 'genre': 'number'})[:10]"
      ]
    },
    {
      "cell_type": "code",
      "execution_count": null,
      "id": "4d8adad9",
      "metadata": {
        "id": "4d8adad9",
        "outputId": "cb237e71-18f6-4a60-db6d-ae3cbe3f4ce3",
        "colab": {
          "base_uri": "https://localhost:8080/",
          "height": 517
        }
      },
      "outputs": [
        {
          "output_type": "display_data",
          "data": {
            "text/plain": [
              "<Figure size 640x480 with 1 Axes>"
            ],
            "image/png": "[encoded data removed]"
          },
          "metadata": {}
        }
      ],
      "source": [
        "sns.barplot(data=df[(df['year'] >= 2000) & (df['year'] < 2005)]['genre'].value_counts().reset_index().rename(columns={'index': 'genre', 'genre': 'number'})[:10],\n",
        "            x='genre',\n",
        "            y='number',\n",
        "            color='red')\n",
        "plt.xticks(rotation=90)\n",
        "plt.show()"
      ]
    },
    {
      "cell_type": "markdown",
      "id": "4ebc744b",
      "metadata": {
        "id": "4ebc744b"
      },
      "source": [
        "- Từ năm 2000 -> 2004:\n",
        ">- Thể loại `gospel` đứng thứ 2 trong top 10 thịnh hành\n",
        ">- Thể loại nhạc thịnh hành nhất là `ambient`"
      ]
    },
    {
      "cell_type": "code",
      "execution_count": null,
      "id": "49056097",
      "metadata": {
        "id": "49056097",
        "outputId": "92fec689-d1ac-4a9b-b666-be41624ceb32",
        "colab": {
          "base_uri": "https://localhost:8080/",
          "height": 517
        }
      },
      "outputs": [
        {
          "output_type": "display_data",
          "data": {
            "text/plain": [
              "<Figure size 640x480 with 1 Axes>"
            ],
            "image/png": "[encoded data removed]"
          },
          "metadata": {}
        }
      ],
      "source": [
        "sns.barplot(data=df[(df['year'] >= 2005) & (df['year'] < 2011)]['genre'].value_counts().reset_index().rename(columns={'index': 'genre', 'genre': 'number'})[:10],\n",
        "            x='genre',\n",
        "            y='number',\n",
        "            color='red')\n",
        "plt.xticks(rotation=90)\n",
        "plt.show()"
      ]
    },
    {
      "cell_type": "markdown",
      "id": "78e9f13c",
      "metadata": {
        "id": "78e9f13c"
      },
      "source": [
        "- Từ năm 2005 -> 2010:\n",
        ">- Thể loại nhạc `gospel` đứng thứ 3 trong top 10\n",
        ">- Thể loại nhạc thịnh hành nhất là `ambient`\n"
      ]
    },
    {
      "cell_type": "code",
      "execution_count": null,
      "id": "811d5367",
      "metadata": {
        "id": "811d5367",
        "outputId": "171885b8-2e9a-4b52-f82b-37772331a467",
        "colab": {
          "base_uri": "https://localhost:8080/",
          "height": 517
        }
      },
      "outputs": [
        {
          "output_type": "display_data",
          "data": {
            "text/plain": [
              "<Figure size 640x480 with 1 Axes>"
            ],
            "image/png": "[encoded data removed]"
          },
          "metadata": {}
        }
      ],
      "source": [
        "sns.barplot(data=df[(df['year'] >= 2011) & (df['year'] < 2016)]['genre'].value_counts().reset_index().rename(columns={'index': 'genre', 'genre': 'number'})[:10],\n",
        "            x='genre',\n",
        "            y='number',\n",
        "            color='red')\n",
        "plt.xticks(rotation=90)\n",
        "plt.show()"
      ]
    },
    {
      "cell_type": "markdown",
      "id": "305c306e",
      "metadata": {
        "id": "305c306e"
      },
      "source": [
        "- Từ năm 2011 -> 2015:\n",
        ">- Thể loại nhạc `gospel` đứng thứ 5\n",
        ">- Thể loại nhạc thịnh hành nhất là `ambient`"
      ]
    },
    {
      "cell_type": "code",
      "execution_count": null,
      "id": "30eb58c8",
      "metadata": {
        "id": "30eb58c8",
        "colab": {
          "base_uri": "https://localhost:8080/",
          "height": 517
        },
        "outputId": "42b745f6-689b-4e14-d1f2-d55eef9b9994"
      },
      "outputs": [
        {
          "output_type": "display_data",
          "data": {
            "text/plain": [
              "<Figure size 640x480 with 1 Axes>"
            ],
            "image/png": "[encoded data removed]"
          },
          "metadata": {}
        }
      ],
      "source": [
        "sns.barplot(data=df[(df['year'] >= 2016) & (df['year'] < 2020)]['genre'].value_counts().reset_index().rename(columns={'index': 'genre', 'genre': 'number'})[:10],\n",
        "            x='genre',\n",
        "            y='number',\n",
        "            color='red')\n",
        "plt.xticks(rotation=90)\n",
        "plt.show()"
      ]
    },
    {
      "cell_type": "markdown",
      "source": [
        "- Từ năm 2016 -> 2020:\n",
        ">- Thể loại nhạc `gospel` đứng thứ 8\n",
        ">- Thể loại nhạc thịnh hành nhất là `black-metal`"
      ],
      "metadata": {
        "id": "zMoQukzVN5cT"
      },
      "id": "zMoQukzVN5cT"
    }
  ],
  "metadata": {
    "kernelspec": {
      "display_name": "Python 3",
      "language": "python",
      "name": "python3"
    },
    "language_info": {
      "codemirror_mode": {
        "name": "ipython",
        "version": 3
      },
      "file_extension": ".py",
      "mimetype": "text/x-python",
      "name": "python",
      "nbconvert_exporter": "python",
      "pygments_lexer": "ipython3",
      "version": "3.12.1"
    },
    "colab": {
      "provenance": []
    }
  },
  "nbformat": 4,
  "nbformat_minor": 5
}