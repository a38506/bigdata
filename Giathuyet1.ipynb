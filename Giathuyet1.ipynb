{
 "cells": [
  {
   "cell_type": "code",
   "execution_count": 2,
   "id": "18b55fdc",
   "metadata": {},
   "outputs": [],
   "source": [
    "import pandas as pd\n",
    "import numpy as np\n",
    "import seaborn as sns\n",
    "import matplotlib.pyplot as plt"
   ]
  },
  {
   "cell_type": "code",
   "execution_count": 3,
   "id": "07660334",
   "metadata": {},
   "outputs": [],
   "source": [
    "df = pd.read_csv('merged_data_removed_cols.csv')"
   ]
  },
  {
   "cell_type": "code",
   "execution_count": 9,
   "id": "5cb3b6be",
   "metadata": {},
   "outputs": [
    {
     "data": {
      "text/html": [
       "<div>\n",
       "<style scoped>\n",
       "    .dataframe tbody tr th:only-of-type {\n",
       "        vertical-align: middle;\n",
       "    }\n",
       "\n",
       "    .dataframe tbody tr th {\n",
       "        vertical-align: top;\n",
       "    }\n",
       "\n",
       "    .dataframe thead th {\n",
       "        text-align: right;\n",
       "    }\n",
       "</style>\n",
       "<table border=\"1\" class=\"dataframe\">\n",
       "  <thead>\n",
       "    <tr style=\"text-align: right;\">\n",
       "      <th></th>\n",
       "      <th>Unnamed: 0</th>\n",
       "      <th>artist_name</th>\n",
       "      <th>track_name</th>\n",
       "      <th>track_id</th>\n",
       "      <th>popularity</th>\n",
       "      <th>year</th>\n",
       "      <th>genre</th>\n",
       "      <th>danceability</th>\n",
       "      <th>acousticness</th>\n",
       "    </tr>\n",
       "  </thead>\n",
       "  <tbody>\n",
       "    <tr>\n",
       "      <th>0</th>\n",
       "      <td>622652</td>\n",
       "      <td>Five For Fighting</td>\n",
       "      <td>Easy Tonight</td>\n",
       "      <td>57PHqrPsX6E7OX9LeKSo9Q</td>\n",
       "      <td>37</td>\n",
       "      <td>2000</td>\n",
       "      <td>acoustic</td>\n",
       "      <td>0.470</td>\n",
       "      <td>0.2590</td>\n",
       "    </tr>\n",
       "    <tr>\n",
       "      <th>1</th>\n",
       "      <td>622653</td>\n",
       "      <td>Stephen Speaks</td>\n",
       "      <td>Passenger Seat</td>\n",
       "      <td>67E65R1XMIKCzRrJ3pC5IS</td>\n",
       "      <td>54</td>\n",
       "      <td>2000</td>\n",
       "      <td>acoustic</td>\n",
       "      <td>0.550</td>\n",
       "      <td>0.0237</td>\n",
       "    </tr>\n",
       "    <tr>\n",
       "      <th>2</th>\n",
       "      <td>622654</td>\n",
       "      <td>Chris Smither</td>\n",
       "      <td>No Love Today</td>\n",
       "      <td>6KmJfZCd5f4P11vuglbIrN</td>\n",
       "      <td>34</td>\n",
       "      <td>2000</td>\n",
       "      <td>acoustic</td>\n",
       "      <td>0.557</td>\n",
       "      <td>0.8490</td>\n",
       "    </tr>\n",
       "    <tr>\n",
       "      <th>3</th>\n",
       "      <td>622655</td>\n",
       "      <td>Chris Smither</td>\n",
       "      <td>Link Of Chain</td>\n",
       "      <td>16N2lpCidTNYdNq2YZhE98</td>\n",
       "      <td>35</td>\n",
       "      <td>2000</td>\n",
       "      <td>acoustic</td>\n",
       "      <td>0.445</td>\n",
       "      <td>0.8830</td>\n",
       "    </tr>\n",
       "    <tr>\n",
       "      <th>4</th>\n",
       "      <td>622656</td>\n",
       "      <td>Bob Schneider</td>\n",
       "      <td>Big Blue Sea</td>\n",
       "      <td>4maIlg3dss7yA23mBdTYdM</td>\n",
       "      <td>27</td>\n",
       "      <td>2000</td>\n",
       "      <td>acoustic</td>\n",
       "      <td>0.671</td>\n",
       "      <td>0.5540</td>\n",
       "    </tr>\n",
       "  </tbody>\n",
       "</table>\n",
       "</div>"
      ],
      "text/plain": [
       "   Unnamed: 0        artist_name      track_name                track_id  \\\n",
       "0      622652  Five For Fighting    Easy Tonight  57PHqrPsX6E7OX9LeKSo9Q   \n",
       "1      622653     Stephen Speaks  Passenger Seat  67E65R1XMIKCzRrJ3pC5IS   \n",
       "2      622654      Chris Smither   No Love Today  6KmJfZCd5f4P11vuglbIrN   \n",
       "3      622655      Chris Smither   Link Of Chain  16N2lpCidTNYdNq2YZhE98   \n",
       "4      622656      Bob Schneider    Big Blue Sea  4maIlg3dss7yA23mBdTYdM   \n",
       "\n",
       "   popularity  year     genre  danceability  acousticness  \n",
       "0          37  2000  acoustic         0.470        0.2590  \n",
       "1          54  2000  acoustic         0.550        0.0237  \n",
       "2          34  2000  acoustic         0.557        0.8490  \n",
       "3          35  2000  acoustic         0.445        0.8830  \n",
       "4          27  2000  acoustic         0.671        0.5540  "
      ]
     },
     "execution_count": 9,
     "metadata": {},
     "output_type": "execute_result"
    }
   ],
   "source": [
    "df.head()"
   ]
  },
  {
   "cell_type": "code",
   "execution_count": 7,
   "id": "7e063d2a",
   "metadata": {},
   "outputs": [
    {
     "name": "stdout",
     "output_type": "stream",
     "text": [
      "<class 'pandas.core.frame.DataFrame'>\n",
      "RangeIndex: 1048575 entries, 0 to 1048574\n",
      "Data columns (total 9 columns):\n",
      " #   Column        Non-Null Count    Dtype  \n",
      "---  ------        --------------    -----  \n",
      " 0   Unnamed: 0    1048575 non-null  int64  \n",
      " 1   artist_name   1048560 non-null  object \n",
      " 2   track_name    1048542 non-null  object \n",
      " 3   track_id      1048575 non-null  object \n",
      " 4   popularity    1048575 non-null  int64  \n",
      " 5   year          1048575 non-null  int64  \n",
      " 6   genre         1048575 non-null  object \n",
      " 7   danceability  1048575 non-null  float64\n",
      " 8   acousticness  1048575 non-null  float64\n",
      "dtypes: float64(2), int64(3), object(4)\n",
      "memory usage: 72.0+ MB\n"
     ]
    }
   ],
   "source": [
    "df.info()"
   ]
  },
  {
   "cell_type": "markdown",
   "id": "6c605a0c",
   "metadata": {},
   "source": [
    "- Dữ liệu có 9 cột:\n",
    ">- `Unnamed: 0`, `popularity`, `year` thuộc kiểu dữ liệu `int64`\n",
    ">- `artist_name`, `track_name`, `track_id`, `genre` thuộc kiểu `object`\n",
    ">- `danceability`, `acousticness` thuộc kiểu dữ liệu `float64`"
   ]
  },
  {
   "cell_type": "code",
   "execution_count": 10,
   "id": "faec3ff6",
   "metadata": {},
   "outputs": [],
   "source": [
    "df.drop(columns=['Unnamed: 0'], inplace=True)"
   ]
  },
  {
   "cell_type": "code",
   "execution_count": 12,
   "id": "d59aa237",
   "metadata": {},
   "outputs": [
    {
     "data": {
      "text/plain": [
       "Index(['artist_name', 'track_name', 'track_id', 'popularity', 'year', 'genre',\n",
       "       'danceability', 'acousticness'],\n",
       "      dtype='object')"
      ]
     },
     "execution_count": 12,
     "metadata": {},
     "output_type": "execute_result"
    }
   ],
   "source": [
    "df.columns"
   ]
  },
  {
   "cell_type": "code",
   "execution_count": 17,
   "id": "76d0dd7d",
   "metadata": {},
   "outputs": [
    {
     "data": {
      "text/plain": [
       "artist_name     15\n",
       "track_name      33\n",
       "track_id         0\n",
       "popularity       0\n",
       "year             0\n",
       "genre            0\n",
       "danceability     0\n",
       "acousticness     0\n",
       "dtype: int64"
      ]
     },
     "execution_count": 17,
     "metadata": {},
     "output_type": "execute_result"
    }
   ],
   "source": [
    "df.isnull().sum()"
   ]
  },
  {
   "cell_type": "markdown",
   "id": "945f7481",
   "metadata": {},
   "source": [
    "- Có 2 cột bị thiếu giá trị là: `artist_name`(15), `track_name`(33) => vì dữ liệu bị thiếu rất ít so với tập dữ liệu nên ta sẽ `xóa` các giá trị này đi."
   ]
  },
  {
   "cell_type": "code",
   "execution_count": 18,
   "id": "4818a572",
   "metadata": {},
   "outputs": [],
   "source": [
    "df.dropna(inplace=True)"
   ]
  },
  {
   "cell_type": "code",
   "execution_count": 19,
   "id": "afabd2c5",
   "metadata": {},
   "outputs": [
    {
     "data": {
      "text/plain": [
       "artist_name     0\n",
       "track_name      0\n",
       "track_id        0\n",
       "popularity      0\n",
       "year            0\n",
       "genre           0\n",
       "danceability    0\n",
       "acousticness    0\n",
       "dtype: int64"
      ]
     },
     "execution_count": 19,
     "metadata": {},
     "output_type": "execute_result"
    }
   ],
   "source": [
    "df.isnull().sum()"
   ]
  },
  {
   "cell_type": "code",
   "execution_count": 20,
   "id": "2def86a7",
   "metadata": {},
   "outputs": [
    {
     "data": {
      "text/html": [
       "<div>\n",
       "<style scoped>\n",
       "    .dataframe tbody tr th:only-of-type {\n",
       "        vertical-align: middle;\n",
       "    }\n",
       "\n",
       "    .dataframe tbody tr th {\n",
       "        vertical-align: top;\n",
       "    }\n",
       "\n",
       "    .dataframe thead th {\n",
       "        text-align: right;\n",
       "    }\n",
       "</style>\n",
       "<table border=\"1\" class=\"dataframe\">\n",
       "  <thead>\n",
       "    <tr style=\"text-align: right;\">\n",
       "      <th></th>\n",
       "      <th>artist_name</th>\n",
       "      <th>track_name</th>\n",
       "      <th>track_id</th>\n",
       "      <th>popularity</th>\n",
       "      <th>year</th>\n",
       "      <th>genre</th>\n",
       "      <th>danceability</th>\n",
       "      <th>acousticness</th>\n",
       "    </tr>\n",
       "  </thead>\n",
       "  <tbody>\n",
       "    <tr>\n",
       "      <th>0</th>\n",
       "      <td>Five For Fighting</td>\n",
       "      <td>Easy Tonight</td>\n",
       "      <td>57PHqrPsX6E7OX9LeKSo9Q</td>\n",
       "      <td>37</td>\n",
       "      <td>2000</td>\n",
       "      <td>acoustic</td>\n",
       "      <td>0.470</td>\n",
       "      <td>0.2590</td>\n",
       "    </tr>\n",
       "    <tr>\n",
       "      <th>1</th>\n",
       "      <td>Stephen Speaks</td>\n",
       "      <td>Passenger Seat</td>\n",
       "      <td>67E65R1XMIKCzRrJ3pC5IS</td>\n",
       "      <td>54</td>\n",
       "      <td>2000</td>\n",
       "      <td>acoustic</td>\n",
       "      <td>0.550</td>\n",
       "      <td>0.0237</td>\n",
       "    </tr>\n",
       "    <tr>\n",
       "      <th>2</th>\n",
       "      <td>Chris Smither</td>\n",
       "      <td>No Love Today</td>\n",
       "      <td>6KmJfZCd5f4P11vuglbIrN</td>\n",
       "      <td>34</td>\n",
       "      <td>2000</td>\n",
       "      <td>acoustic</td>\n",
       "      <td>0.557</td>\n",
       "      <td>0.8490</td>\n",
       "    </tr>\n",
       "    <tr>\n",
       "      <th>3</th>\n",
       "      <td>Chris Smither</td>\n",
       "      <td>Link Of Chain</td>\n",
       "      <td>16N2lpCidTNYdNq2YZhE98</td>\n",
       "      <td>35</td>\n",
       "      <td>2000</td>\n",
       "      <td>acoustic</td>\n",
       "      <td>0.445</td>\n",
       "      <td>0.8830</td>\n",
       "    </tr>\n",
       "    <tr>\n",
       "      <th>4</th>\n",
       "      <td>Bob Schneider</td>\n",
       "      <td>Big Blue Sea</td>\n",
       "      <td>4maIlg3dss7yA23mBdTYdM</td>\n",
       "      <td>27</td>\n",
       "      <td>2000</td>\n",
       "      <td>acoustic</td>\n",
       "      <td>0.671</td>\n",
       "      <td>0.5540</td>\n",
       "    </tr>\n",
       "  </tbody>\n",
       "</table>\n",
       "</div>"
      ],
      "text/plain": [
       "         artist_name      track_name                track_id  popularity  \\\n",
       "0  Five For Fighting    Easy Tonight  57PHqrPsX6E7OX9LeKSo9Q          37   \n",
       "1     Stephen Speaks  Passenger Seat  67E65R1XMIKCzRrJ3pC5IS          54   \n",
       "2      Chris Smither   No Love Today  6KmJfZCd5f4P11vuglbIrN          34   \n",
       "3      Chris Smither   Link Of Chain  16N2lpCidTNYdNq2YZhE98          35   \n",
       "4      Bob Schneider    Big Blue Sea  4maIlg3dss7yA23mBdTYdM          27   \n",
       "\n",
       "   year     genre  danceability  acousticness  \n",
       "0  2000  acoustic         0.470        0.2590  \n",
       "1  2000  acoustic         0.550        0.0237  \n",
       "2  2000  acoustic         0.557        0.8490  \n",
       "3  2000  acoustic         0.445        0.8830  \n",
       "4  2000  acoustic         0.671        0.5540  "
      ]
     },
     "execution_count": 20,
     "metadata": {},
     "output_type": "execute_result"
    }
   ],
   "source": [
    "df.head()"
   ]
  },
  {
   "cell_type": "code",
   "execution_count": 26,
   "id": "08c779ff",
   "metadata": {},
   "outputs": [
    {
     "data": {
      "text/html": [
       "<div>\n",
       "<style scoped>\n",
       "    .dataframe tbody tr th:only-of-type {\n",
       "        vertical-align: middle;\n",
       "    }\n",
       "\n",
       "    .dataframe tbody tr th {\n",
       "        vertical-align: top;\n",
       "    }\n",
       "\n",
       "    .dataframe thead th {\n",
       "        text-align: right;\n",
       "    }\n",
       "</style>\n",
       "<table border=\"1\" class=\"dataframe\">\n",
       "  <thead>\n",
       "    <tr style=\"text-align: right;\">\n",
       "      <th></th>\n",
       "      <th>year</th>\n",
       "      <th>number</th>\n",
       "    </tr>\n",
       "  </thead>\n",
       "  <tbody>\n",
       "    <tr>\n",
       "      <th>0</th>\n",
       "      <td>2000</td>\n",
       "      <td>44034</td>\n",
       "    </tr>\n",
       "    <tr>\n",
       "      <th>1</th>\n",
       "      <td>2001</td>\n",
       "      <td>42339</td>\n",
       "    </tr>\n",
       "    <tr>\n",
       "      <th>2</th>\n",
       "      <td>2002</td>\n",
       "      <td>42100</td>\n",
       "    </tr>\n",
       "    <tr>\n",
       "      <th>3</th>\n",
       "      <td>2003</td>\n",
       "      <td>42368</td>\n",
       "    </tr>\n",
       "    <tr>\n",
       "      <th>4</th>\n",
       "      <td>2004</td>\n",
       "      <td>43390</td>\n",
       "    </tr>\n",
       "    <tr>\n",
       "      <th>5</th>\n",
       "      <td>2005</td>\n",
       "      <td>43779</td>\n",
       "    </tr>\n",
       "    <tr>\n",
       "      <th>6</th>\n",
       "      <td>2006</td>\n",
       "      <td>45474</td>\n",
       "    </tr>\n",
       "    <tr>\n",
       "      <th>7</th>\n",
       "      <td>2007</td>\n",
       "      <td>46001</td>\n",
       "    </tr>\n",
       "    <tr>\n",
       "      <th>8</th>\n",
       "      <td>2008</td>\n",
       "      <td>47431</td>\n",
       "    </tr>\n",
       "    <tr>\n",
       "      <th>9</th>\n",
       "      <td>2009</td>\n",
       "      <td>28992</td>\n",
       "    </tr>\n",
       "    <tr>\n",
       "      <th>10</th>\n",
       "      <td>2012</td>\n",
       "      <td>54788</td>\n",
       "    </tr>\n",
       "    <tr>\n",
       "      <th>11</th>\n",
       "      <td>2013</td>\n",
       "      <td>53215</td>\n",
       "    </tr>\n",
       "    <tr>\n",
       "      <th>12</th>\n",
       "      <td>2014</td>\n",
       "      <td>53179</td>\n",
       "    </tr>\n",
       "    <tr>\n",
       "      <th>13</th>\n",
       "      <td>2015</td>\n",
       "      <td>51607</td>\n",
       "    </tr>\n",
       "    <tr>\n",
       "      <th>14</th>\n",
       "      <td>2016</td>\n",
       "      <td>40271</td>\n",
       "    </tr>\n",
       "    <tr>\n",
       "      <th>15</th>\n",
       "      <td>2017</td>\n",
       "      <td>56236</td>\n",
       "    </tr>\n",
       "    <tr>\n",
       "      <th>16</th>\n",
       "      <td>2018</td>\n",
       "      <td>56565</td>\n",
       "    </tr>\n",
       "    <tr>\n",
       "      <th>17</th>\n",
       "      <td>2019</td>\n",
       "      <td>55787</td>\n",
       "    </tr>\n",
       "    <tr>\n",
       "      <th>18</th>\n",
       "      <td>2020</td>\n",
       "      <td>55065</td>\n",
       "    </tr>\n",
       "    <tr>\n",
       "      <th>19</th>\n",
       "      <td>2021</td>\n",
       "      <td>53566</td>\n",
       "    </tr>\n",
       "    <tr>\n",
       "      <th>20</th>\n",
       "      <td>2022</td>\n",
       "      <td>53691</td>\n",
       "    </tr>\n",
       "    <tr>\n",
       "      <th>21</th>\n",
       "      <td>2023</td>\n",
       "      <td>38649</td>\n",
       "    </tr>\n",
       "  </tbody>\n",
       "</table>\n",
       "</div>"
      ],
      "text/plain": [
       "    year  number\n",
       "0   2000   44034\n",
       "1   2001   42339\n",
       "2   2002   42100\n",
       "3   2003   42368\n",
       "4   2004   43390\n",
       "5   2005   43779\n",
       "6   2006   45474\n",
       "7   2007   46001\n",
       "8   2008   47431\n",
       "9   2009   28992\n",
       "10  2012   54788\n",
       "11  2013   53215\n",
       "12  2014   53179\n",
       "13  2015   51607\n",
       "14  2016   40271\n",
       "15  2017   56236\n",
       "16  2018   56565\n",
       "17  2019   55787\n",
       "18  2020   55065\n",
       "19  2021   53566\n",
       "20  2022   53691\n",
       "21  2023   38649"
      ]
     },
     "execution_count": 26,
     "metadata": {},
     "output_type": "execute_result"
    }
   ],
   "source": [
    "df.groupby('year').size().reset_index().rename(columns={0:'number'})"
   ]
  },
  {
   "cell_type": "code",
   "execution_count": 21,
   "id": "d60a58a5",
   "metadata": {},
   "outputs": [
    {
     "data": {
      "image/png": "[encoded data removed]",
      "text/plain": [
       "<Figure size 640x480 with 1 Axes>"
      ]
     },
     "metadata": {},
     "output_type": "display_data"
    }
   ],
   "source": [
    "# Số lượng bài hát qua các năm\n",
    "sns.countplot(data=df, x = 'year')\n",
    "plt.xticks(rotation = 90);"
   ]
  },
  {
   "cell_type": "markdown",
   "id": "2f8f6b70",
   "metadata": {},
   "source": [
    "- Năm có số bài hát được ra ít nhất là năm 2009.\n",
    "- Năm có số bài hát được ra nhiều nhất là năm 2018.\n",
    "- Hầu hết các năm đều có hơn 40k bài hát, có 3 năm số lượng bài hát ít hơn 40k là 2009, 2016, 2023."
   ]
  },
  {
   "cell_type": "code",
   "execution_count": 49,
   "id": "086224be",
   "metadata": {},
   "outputs": [
    {
     "data": {
      "text/html": [
       "<div>\n",
       "<style scoped>\n",
       "    .dataframe tbody tr th:only-of-type {\n",
       "        vertical-align: middle;\n",
       "    }\n",
       "\n",
       "    .dataframe tbody tr th {\n",
       "        vertical-align: top;\n",
       "    }\n",
       "\n",
       "    .dataframe thead th {\n",
       "        text-align: right;\n",
       "    }\n",
       "</style>\n",
       "<table border=\"1\" class=\"dataframe\">\n",
       "  <thead>\n",
       "    <tr style=\"text-align: right;\">\n",
       "      <th></th>\n",
       "      <th>genre</th>\n",
       "      <th>number</th>\n",
       "    </tr>\n",
       "  </thead>\n",
       "  <tbody>\n",
       "    <tr>\n",
       "      <th>0</th>\n",
       "      <td>ambient</td>\n",
       "      <td>9367</td>\n",
       "    </tr>\n",
       "    <tr>\n",
       "      <th>1</th>\n",
       "      <td>gospel</td>\n",
       "      <td>8932</td>\n",
       "    </tr>\n",
       "    <tr>\n",
       "      <th>2</th>\n",
       "      <td>black-metal</td>\n",
       "      <td>8757</td>\n",
       "    </tr>\n",
       "    <tr>\n",
       "      <th>3</th>\n",
       "      <td>alt-rock</td>\n",
       "      <td>8598</td>\n",
       "    </tr>\n",
       "    <tr>\n",
       "      <th>4</th>\n",
       "      <td>emo</td>\n",
       "      <td>8572</td>\n",
       "    </tr>\n",
       "    <tr>\n",
       "      <th>5</th>\n",
       "      <td>acoustic</td>\n",
       "      <td>8275</td>\n",
       "    </tr>\n",
       "    <tr>\n",
       "      <th>6</th>\n",
       "      <td>classical</td>\n",
       "      <td>8149</td>\n",
       "    </tr>\n",
       "    <tr>\n",
       "      <th>7</th>\n",
       "      <td>french</td>\n",
       "      <td>8133</td>\n",
       "    </tr>\n",
       "    <tr>\n",
       "      <th>8</th>\n",
       "      <td>forro</td>\n",
       "      <td>8079</td>\n",
       "    </tr>\n",
       "    <tr>\n",
       "      <th>9</th>\n",
       "      <td>blues</td>\n",
       "      <td>7898</td>\n",
       "    </tr>\n",
       "  </tbody>\n",
       "</table>\n",
       "</div>"
      ],
      "text/plain": [
       "         genre  number\n",
       "0      ambient    9367\n",
       "1       gospel    8932\n",
       "2  black-metal    8757\n",
       "3     alt-rock    8598\n",
       "4          emo    8572\n",
       "5     acoustic    8275\n",
       "6    classical    8149\n",
       "7       french    8133\n",
       "8        forro    8079\n",
       "9        blues    7898"
      ]
     },
     "execution_count": 49,
     "metadata": {},
     "output_type": "execute_result"
    }
   ],
   "source": [
    "df[df['year'] < 2010]['genre'].value_counts().reset_index().rename(columns = {'index': 'genre', 'genre': 'number'})[:10]"
   ]
  },
  {
   "cell_type": "code",
   "execution_count": 60,
   "id": "4d8adad9",
   "metadata": {},
   "outputs": [
    {
     "data": {
      "image/png": "[encoded data removed]",
      "text/plain": [
       "<Figure size 640x480 with 1 Axes>"
      ]
     },
     "metadata": {},
     "output_type": "display_data"
    }
   ],
   "source": [
    "sns.barplot(data=df[df['year'] < 2010]['genre'].value_counts().reset_index().rename(columns = {'index': 'genre', 'genre': 'number'})[:10], \n",
    "             x = 'genre', \n",
    "             y = 'number',\n",
    "           color= 'blue')\n",
    "plt.xticks(rotation = 90);"
   ]
  },
  {
   "cell_type": "markdown",
   "id": "4ebc744b",
   "metadata": {},
   "source": [
    "- Từ năm 2000 -> 2009: \n",
    ">- Top 3 thể loại nhạc thịnh hành: ambient, gospel, black-metal\n",
    ">- Thể loại nhạc thịnh hành nhất là `ambient`"
   ]
  },
  {
   "cell_type": "code",
   "execution_count": 58,
   "id": "49056097",
   "metadata": {},
   "outputs": [
    {
     "data": {
      "image/png": "[encoded data removed]",
      "text/plain": [
       "<Figure size 640x480 with 1 Axes>"
      ]
     },
     "metadata": {},
     "output_type": "display_data"
    }
   ],
   "source": [
    "sns.barplot(data=df[(df['year'] >= 2010) & (df['year'] < 2015)]['genre'].value_counts().reset_index().rename(columns = {'index': 'genre', 'genre': 'number'})[:10], \n",
    "             x = 'genre', \n",
    "             y = 'number', color= 'blue' )\n",
    "plt.xticks(rotation = 90);"
   ]
  },
  {
   "cell_type": "markdown",
   "id": "78e9f13c",
   "metadata": {},
   "source": [
    "- Từ năm 2010 -> 2014: \n",
    ">- Top 3 thể loại nhạc thịnh hành: comedy, black-metal, ambient\n",
    ">- Thể loại nhạc thịnh hành nhất là `comedy`"
   ]
  },
  {
   "cell_type": "code",
   "execution_count": 61,
   "id": "811d5367",
   "metadata": {},
   "outputs": [
    {
     "data": {
      "image/png": "[encoded data removed]",
      "text/plain": [
       "<Figure size 640x480 with 1 Axes>"
      ]
     },
     "metadata": {},
     "output_type": "display_data"
    }
   ],
   "source": [
    "sns.barplot(data=df[df['year'] >= 2015]['genre'].value_counts().reset_index().rename(columns = {'index': 'genre', 'genre': 'number'})[:10], \n",
    "             x = 'genre', \n",
    "             y = 'number' ,\n",
    "           color= 'blue')\n",
    "plt.xticks(rotation = 90);"
   ]
  },
  {
   "cell_type": "markdown",
   "id": "305c306e",
   "metadata": {},
   "source": [
    "- Từ năm 2015 -> 2023: \n",
    ">- Top 3 thể loại nhạc thịnh hành: black-metal, chill,ambient\n",
    ">- Thể loại nhạc thịnh hành nhất là `black-metal`"
   ]
  },
  {
   "cell_type": "code",
   "execution_count": null,
   "id": "30eb58c8",
   "metadata": {},
   "outputs": [],
   "source": []
  },
  {
   "cell_type": "code",
   "execution_count": null,
   "id": "afab759b",
   "metadata": {},
   "outputs": [],
   "source": []
  }
 ],
 "metadata": {
  "kernelspec": {
   "display_name": "Python 3",
   "language": "python",
   "name": "python3"
  },
  "language_info": {
   "codemirror_mode": {
    "name": "ipython",
    "version": 3
   },
   "file_extension": ".py",
   "mimetype": "text/x-python",
   "name": "python",
   "nbconvert_exporter": "python",
   "pygments_lexer": "ipython3",
   "version": "3.9.13"
  }
 },
 "nbformat": 4,
 "nbformat_minor": 5
}
